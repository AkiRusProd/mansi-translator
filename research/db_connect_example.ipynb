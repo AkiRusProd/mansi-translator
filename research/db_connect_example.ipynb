{
 "cells": [
  {
   "cell_type": "code",
   "execution_count": 1,
   "id": "2d98335c-4479-4e92-a6db-d176e1950686",
   "metadata": {},
   "outputs": [],
   "source": [
    "import aiosqlite\n",
    "import os"
   ]
  },
  {
   "cell_type": "code",
   "execution_count": 2,
   "id": "79d72782-64e3-4ccb-857a-af10c7f5c80c",
   "metadata": {},
   "outputs": [],
   "source": [
    "if os.path.exists('../backend/app/db/feedback_db.db'):\n",
    "    db = await aiosqlite.connect('../backend/app/db/feedback_db.db')\n",
    "else:\n",
    "    raise ValueError(\"Start backend first\")"
   ]
  },
  {
   "cell_type": "code",
   "execution_count": 5,
   "id": "32cc9a0a-fd58-41da-85cd-7428f905907e",
   "metadata": {},
   "outputs": [
    {
     "data": {
      "text/plain": [
       "[(1, 'mansi', 'rus', '----dsadsa----ӯо̄ӯӯо̄ӣ', '------dsadsa------', 'rus', 5),\n",
       " (2,\n",
       "  'rus',\n",
       "  'mansi',\n",
       "  '------dsadsa------dsadad',\n",
       "  '--------dsadsa------dsadad--',\n",
       "  'mansi',\n",
       "  4)]"
      ]
     },
     "execution_count": 5,
     "metadata": {},
     "output_type": "execute_result"
    }
   ],
   "source": [
    "res = await db.execute('SELECT * FROM Ratings')\n",
    "users = await res.fetchall()\n",
    "users"
   ]
  },
  {
   "cell_type": "code",
   "execution_count": 6,
   "id": "c449ade9-013f-424b-abf4-b27f9bfa934d",
   "metadata": {},
   "outputs": [
    {
     "data": {
      "text/plain": [
       "[(1,\n",
       "  'rus',\n",
       "  'mansi',\n",
       "  '------dsadsa------dsadad',\n",
       "  '--------dsadsa------dsadad--',\n",
       "  '55555',\n",
       "  'mansi'),\n",
       " (2,\n",
       "  'mansi',\n",
       "  'rus',\n",
       "  '--------dsadsa------dsadad--ы̄ы̄gfd',\n",
       "  '----------dsadsa------dsadad--ы̄ы̄gfd--',\n",
       "  'gfdg',\n",
       "  'mansi')]"
      ]
     },
     "execution_count": 6,
     "metadata": {},
     "output_type": "execute_result"
    }
   ],
   "source": [
    "res = await db.execute('SELECT * FROM Improvements')\n",
    "users = await res.fetchall()\n",
    "users"
   ]
  },
  {
   "cell_type": "code",
   "execution_count": null,
   "id": "d117f2cb-806b-4363-af0c-d78ae4863377",
   "metadata": {},
   "outputs": [],
   "source": []
  },
  {
   "cell_type": "code",
   "execution_count": null,
   "id": "1fb861a5-64e8-4f9a-a7d1-958f362b4ac8",
   "metadata": {},
   "outputs": [],
   "source": []
  }
 ],
 "metadata": {
  "kernelspec": {
   "display_name": "Python 3.10 (venv)",
   "language": "python",
   "name": "venv_310"
  },
  "language_info": {
   "codemirror_mode": {
    "name": "ipython",
    "version": 3
   },
   "file_extension": ".py",
   "mimetype": "text/x-python",
   "name": "python",
   "nbconvert_exporter": "python",
   "pygments_lexer": "ipython3",
   "version": "3.10.4"
  }
 },
 "nbformat": 4,
 "nbformat_minor": 5
}
