{
 "cells": [
  {
   "cell_type": "code",
   "execution_count": 23,
   "metadata": {},
   "outputs": [],
   "source": [
    "import pandas as pd\n",
    "import pyperclip\n",
    "import sacrebleu\n",
    "from pathlib import Path\n",
    "\n",
    "\"\"\"https://arxiv.org/pdf/2404.13813\"\"\""
   ]
  },
  {
   "cell_type": "code",
   "execution_count": 2,
   "metadata": {},
   "outputs": [
    {
     "name": "stdout",
     "output_type": "stream",
     "text": [
      "Train size: 63947\n",
      "Val size: 7993\n",
      "Test size: 7993\n"
     ]
    }
   ],
   "source": [
    "def load_data(dataset_path):\n",
    "    parent_path = Path(dataset_path).parent\n",
    "\n",
    "    if not (parent_path / 'train_split.csv').exists():\n",
    "        df = pd.read_csv(dataset_path)\n",
    "\n",
    "        df = df.rename(columns={ # TODO: This is bulshit, remove it\n",
    "            'target': 'mansi',\n",
    "            'source': 'ru'\n",
    "        })\n",
    "\n",
    "        shuffled_df = df.sample(frac=1).reset_index(drop=True)\n",
    "\n",
    "        total_size = len(shuffled_df)\n",
    "        test_size = int(total_size * 0.1)\n",
    "        val_size = int(total_size * 0.1)\n",
    "        # train_size = total_size - test_size - val_size\n",
    "\n",
    "        test_df = shuffled_df[:test_size]\n",
    "        val_df = shuffled_df[test_size: test_size + val_size]\n",
    "        train_df = shuffled_df[test_size + val_size:]\n",
    "\n",
    "        train_df.to_csv(parent_path / 'train_split.csv', index=False)\n",
    "        val_df.to_csv(parent_path / 'val_split.csv', index=False)\n",
    "        test_df.to_csv(parent_path / 'test_split.csv', index=False)\n",
    "    else:\n",
    "        train_df = pd.read_csv(parent_path / 'train_split.csv')\n",
    "        val_df = pd.read_csv(parent_path / 'val_split.csv')\n",
    "        test_df = pd.read_csv(parent_path / 'test_split.csv')\n",
    "\n",
    "    print(f\"Train size: {len(train_df)}\")\n",
    "    print(f\"Val size: {len(val_df)}\")\n",
    "    print(f\"Test size: {len(test_df)}\")\n",
    "\n",
    "    return train_df, val_df, test_df\n",
    "\n",
    "\n",
    "train_df, val_df, test_df = load_data(\"data/cleared_v2.csv\")"
   ]
  },
  {
   "cell_type": "code",
   "execution_count": 21,
   "metadata": {},
   "outputs": [],
   "source": [
    "n_train_pairs = 10000\n",
    "start_pred_pairs_index = 0\n",
    "end_pred_pairs_index = 50\n",
    "\n",
    "train_df_pairs = train_df.sample(n_train_pairs)\n",
    "\n",
    "\n",
    "str_pairs = \"\"\n",
    "for index, row in train_df_pairs.iterrows():\n",
    "    # str_pairs += f\"Russian: {row['ru']}\\nMansi: {row['mansi']}\\n\\n\"\n",
    "    str_pairs += f\"Mansi: {row['mansi']}\\Russian: {row['ru']}\\n\\n\"\n",
    "\n",
    "\n",
    "prompt = \\\n",
    "\"\"\"\n",
    "You are a translator. Here is pairs of Mansi sentences and their translations in Russian language:\n",
    "{data}\n",
    "\n",
    "Your task is to translate this sentences from Mansi to Russian:\n",
    "{sentences}\n",
    "\n",
    "Return the translated sentence in Russian language as Python list.\n",
    "\"\"\"\n",
    "# sample_value = test_df.sample(1)['ru'].iloc[0]\n",
    "# sample_values = test_df.sample(n_pred_pairs).reset_index()\n",
    "sample_values = test_df[start_pred_pairs_index:end_pred_pairs_index]\n",
    "\n",
    "str_ru = \"\"\n",
    "tgt_texts = []\n",
    "\n",
    "for index, row in sample_values.iterrows():\n",
    "    str_ru += f\"{index}. {row['mansi']}\\n\"\n",
    "    tgt_texts.append(row['ru'])\n",
    "\n",
    "sample_value = str_ru\n",
    "\n",
    "\n",
    "filled_prompt = prompt.format(data=str_pairs, sentences=sample_value)\n",
    "# print(filled_prompt)\n",
    "\n",
    "pyperclip.copy(filled_prompt)\n",
    "\n"
   ]
  },
  {
   "cell_type": "code",
   "execution_count": 22,
   "metadata": {},
   "outputs": [
    {
     "name": "stdout",
     "output_type": "stream",
     "text": [
      "BLEU = 8.74 42.1/14.0/5.8/1.7 (BP = 1.000 ratio = 1.027 hyp_len = 266 ref_len = 259)\n",
      "chrF2++ = 37.17\n"
     ]
    }
   ],
   "source": [
    "mansi_translations = [\n",
    "    \"Хорошая ткань.\",\n",
    "    \"Сквозь кедровые ветви зайчик прыгает.\",\n",
    "    \"Сколько женщин там было?\",\n",
    "    \"Девочка любила маму-папу.\",\n",
    "    \"Только Настя сидела близко от него, об этом Силька ей сказала.\",\n",
    "    \"Я за столом сижу.\",\n",
    "    \"БОБЁР И БОБРЯТА.\",\n",
    "    \"Золотой Царь, отец, в котёл вошёл.\",\n",
    "    \"Спустя много лет, внук опять встал на ноги.\",\n",
    "    \"Затем он перевернул стол.\",\n",
    "    \"Отец однажды заболел, куда-то ушел.\",\n",
    "    \"Глаза вместе закрывают, на небо смотрит.\",\n",
    "    \"В России среди живущих людей 80 процентов считают себя русскими.\",\n",
    "    \"Лягушка этим людям сказала: «Добейте Менква, убейте его».\",\n",
    "    \"Их повзрослевшая семья в 1958 году в Саранпауль переехала.\",\n",
    "    \"Его шею тоже перерублю я.\",\n",
    "    \"Старший мужчина пусть не будет.\",\n",
    "    \"Лыжи застревают.\",\n",
    "    \"На реализацию этой программы деньги выделяет Нефтеюганский район для того чтобы в «Сказке» местное население  проводили соревнования на обласах.\",\n",
    "    \"Женщина от проделанной работы очень обрадовалась.\",\n",
    "    \"На этом дереве, где ты держишься, лапа-медвежья пусть будет!\",\n",
    "    \"Сначала его хорошенько подумай, потом ответь обратно.\",\n",
    "    \"Сейчас я про папу и маму напишу.\",\n",
    "    \"Жить хочу.\",\n",
    "    \"Поэтому она знаменитая, много напрасно не говорит.\",\n",
    "    \"Вверх вот он повернулся, сверху идущий Нуми Торум, снизу идущий ёлы Торум, наш народ пусть оберегают, наш народ пусть содержат.\",\n",
    "    \"И ты, дочь Похсын Хар Товыль Мольсянын Отыр, ко мне иди!\",\n",
    "    \"Евдокия Андреевна во время учёбы «Русско-хантыйский словарь» выпустила.\",\n",
    "    \"Борис Хохряков, председатель окружной Думы, первое слово о работе, проделанной за 2015 год, сказал.\",\n",
    "    \"Теперь до сюда он.\",\n",
    "]\n",
    "\n",
    "bleu_calc = sacrebleu.BLEU()\n",
    "chrf_calc = sacrebleu.CHRF(word_order=2)  # this metric is called ChrF++\n",
    "\n",
    "bleu_score = bleu_calc.corpus_score(mansi_translations, [tgt_texts])\n",
    "chrf_score = chrf_calc.corpus_score(mansi_translations, [tgt_texts])\n",
    "\n",
    "print(bleu_score)\n",
    "print(chrf_score)"
   ]
  }
 ],
 "metadata": {
  "kernelspec": {
   "display_name": "Python 3",
   "language": "python",
   "name": "python3"
  },
  "language_info": {
   "codemirror_mode": {
    "name": "ipython",
    "version": 3
   },
   "file_extension": ".py",
   "mimetype": "text/x-python",
   "name": "python",
   "nbconvert_exporter": "python",
   "pygments_lexer": "ipython3",
   "version": "3.10.11"
  }
 },
 "nbformat": 4,
 "nbformat_minor": 2
}
