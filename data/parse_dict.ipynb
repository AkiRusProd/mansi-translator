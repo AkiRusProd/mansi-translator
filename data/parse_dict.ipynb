{
 "cells": [
  {
   "cell_type": "code",
   "execution_count": 10,
   "id": "9bece630-4ae2-4cd2-adae-1a3ef809be93",
   "metadata": {},
   "outputs": [],
   "source": [
    "import pandas as pd\n",
    "import re\n",
    "import requests\n",
    "from bs4 import BeautifulSoup as bs\n",
    "from tqdm.notebook import tqdm\n",
    "from time import sleep\n",
    "from copy import deepcopy"
   ]
  },
  {
   "cell_type": "markdown",
   "id": "b8cbb7f4-b919-45f4-8bb9-c886dd3a8888",
   "metadata": {},
   "source": [
    "# парсинг"
   ]
  },
  {
   "cell_type": "code",
   "execution_count": 6,
   "id": "2ecba00d-ae39-418b-ae52-baef0518f726",
   "metadata": {},
   "outputs": [],
   "source": [
    "page = bs(requests.get('https://dict.fu-lab.ru/dict-p?id=238837&letter1=а').text, 'lxml')"
   ]
  },
  {
   "cell_type": "markdown",
   "id": "9eef317a-961e-4479-b891-3549192bf833",
   "metadata": {},
   "source": [
    "линки с буквами"
   ]
  },
  {
   "cell_type": "code",
   "execution_count": 7,
   "id": "68a789bd-4bd5-4a6f-97dd-f6ae8b70fa1d",
   "metadata": {
    "scrolled": true
   },
   "outputs": [
    {
     "data": {
      "text/plain": [
       "['https://dict.fu-lab.ru/dict-p?id=238837&letter1=а',\n",
       " 'https://dict.fu-lab.ru/dict-p?id=238837&letter1=а',\n",
       " 'https://dict.fu-lab.ru/dict-p?id=238837&letter1=̄',\n",
       " 'https://dict.fu-lab.ru/dict-p?id=238837&letter1=б',\n",
       " 'https://dict.fu-lab.ru/dict-p?id=238837&letter1=в',\n",
       " 'https://dict.fu-lab.ru/dict-p?id=238837&letter1=г',\n",
       " 'https://dict.fu-lab.ru/dict-p?id=238837&letter1=д',\n",
       " 'https://dict.fu-lab.ru/dict-p?id=238837&letter1=е',\n",
       " 'https://dict.fu-lab.ru/dict-p?id=238837&letter1=е',\n",
       " 'https://dict.fu-lab.ru/dict-p?id=238837&letter1=̄',\n",
       " 'https://dict.fu-lab.ru/dict-p?id=238837&letter1=ё',\n",
       " 'https://dict.fu-lab.ru/dict-p?id=238837&letter1=ё',\n",
       " 'https://dict.fu-lab.ru/dict-p?id=238837&letter1=̄',\n",
       " 'https://dict.fu-lab.ru/dict-p?id=238837&letter1=ж',\n",
       " 'https://dict.fu-lab.ru/dict-p?id=238837&letter1=з',\n",
       " 'https://dict.fu-lab.ru/dict-p?id=238837&letter1=и',\n",
       " 'https://dict.fu-lab.ru/dict-p?id=238837&letter1=ӣ',\n",
       " 'https://dict.fu-lab.ru/dict-p?id=238837&letter1=й',\n",
       " 'https://dict.fu-lab.ru/dict-p?id=238837&letter1=к',\n",
       " 'https://dict.fu-lab.ru/dict-p?id=238837&letter1=л',\n",
       " 'https://dict.fu-lab.ru/dict-p?id=238837&letter1=м',\n",
       " 'https://dict.fu-lab.ru/dict-p?id=238837&letter1=н',\n",
       " 'https://dict.fu-lab.ru/dict-p?id=238837&letter1=ӈ',\n",
       " 'https://dict.fu-lab.ru/dict-p?id=238837&letter1=о',\n",
       " 'https://dict.fu-lab.ru/dict-p?id=238837&letter1=о',\n",
       " 'https://dict.fu-lab.ru/dict-p?id=238837&letter1=̄',\n",
       " 'https://dict.fu-lab.ru/dict-p?id=238837&letter1=п',\n",
       " 'https://dict.fu-lab.ru/dict-p?id=238837&letter1=р',\n",
       " 'https://dict.fu-lab.ru/dict-p?id=238837&letter1=с',\n",
       " 'https://dict.fu-lab.ru/dict-p?id=238837&letter1=т',\n",
       " 'https://dict.fu-lab.ru/dict-p?id=238837&letter1=у',\n",
       " 'https://dict.fu-lab.ru/dict-p?id=238837&letter1=ӯ',\n",
       " 'https://dict.fu-lab.ru/dict-p?id=238837&letter1=ф',\n",
       " 'https://dict.fu-lab.ru/dict-p?id=238837&letter1=х',\n",
       " 'https://dict.fu-lab.ru/dict-p?id=238837&letter1=ц',\n",
       " 'https://dict.fu-lab.ru/dict-p?id=238837&letter1=ч',\n",
       " 'https://dict.fu-lab.ru/dict-p?id=238837&letter1=ш',\n",
       " 'https://dict.fu-lab.ru/dict-p?id=238837&letter1=щ',\n",
       " 'https://dict.fu-lab.ru/dict-p?id=238837&letter1=ъ',\n",
       " 'https://dict.fu-lab.ru/dict-p?id=238837&letter1=ы',\n",
       " 'https://dict.fu-lab.ru/dict-p?id=238837&letter1=ы',\n",
       " 'https://dict.fu-lab.ru/dict-p?id=238837&letter1=̄',\n",
       " 'https://dict.fu-lab.ru/dict-p?id=238837&letter1=ь',\n",
       " 'https://dict.fu-lab.ru/dict-p?id=238837&letter1=э',\n",
       " 'https://dict.fu-lab.ru/dict-p?id=238837&letter1=э',\n",
       " 'https://dict.fu-lab.ru/dict-p?id=238837&letter1=̄',\n",
       " 'https://dict.fu-lab.ru/dict-p?id=238837&letter1=ю',\n",
       " 'https://dict.fu-lab.ru/dict-p?id=238837&letter1=ю',\n",
       " 'https://dict.fu-lab.ru/dict-p?id=238837&letter1=̄',\n",
       " 'https://dict.fu-lab.ru/dict-p?id=238837&letter1=я',\n",
       " 'https://dict.fu-lab.ru/dict-p?id=238837&letter1=я',\n",
       " 'https://dict.fu-lab.ru/dict-p?id=238837&letter1=̄']"
      ]
     },
     "execution_count": 7,
     "metadata": {},
     "output_type": "execute_result"
    }
   ],
   "source": [
    "links = ['https://dict.fu-lab.ru' + a['href'] for a in page.find('div', {'class': 'alphabet_div'}).findAll('a')]\n",
    "links"
   ]
  },
  {
   "cell_type": "code",
   "execution_count": 12,
   "id": "beecf993-07fa-49fe-a20a-bd5da534ab75",
   "metadata": {},
   "outputs": [
    {
     "data": {
      "application/vnd.jupyter.widget-view+json": {
       "model_id": "26d1a4ae24c74a23b37fb66e887e32b2",
       "version_major": 2,
       "version_minor": 0
      },
      "text/plain": [
       "  0%|          | 0/52 [00:00<?, ?it/s]"
      ]
     },
     "metadata": {},
     "output_type": "display_data"
    }
   ],
   "source": [
    "pages = []\n",
    "na_links = []\n",
    "for link in tqdm(links):\n",
    "    response = requests.get(link)\n",
    "    if response.ok:\n",
    "        pages.append(response.text)\n",
    "    else:\n",
    "        print('unavailable link:', link)\n",
    "        na_links.append(link)\n",
    "    sleep(0.5)"
   ]
  },
  {
   "cell_type": "markdown",
   "id": "201d6b68-7302-4394-b568-793d89784488",
   "metadata": {},
   "source": [
    "номера страниц для каждой из букв"
   ]
  },
  {
   "cell_type": "code",
   "execution_count": 22,
   "id": "59174d27-38c7-4794-b99f-fbc10c6515ef",
   "metadata": {},
   "outputs": [
    {
     "data": {
      "application/vnd.jupyter.widget-view+json": {
       "model_id": "04e14b964c974d2caf42513534596d26",
       "version_major": 2,
       "version_minor": 0
      },
      "text/plain": [
       "Letter pages:   0%|          | 0/52 [00:00<?, ?it/s]"
      ]
     },
     "metadata": {},
     "output_type": "display_data"
    },
    {
     "data": {
      "application/vnd.jupyter.widget-view+json": {
       "model_id": "",
       "version_major": 2,
       "version_minor": 0
      },
      "text/plain": [
       "Inner pages:   0%|          | 0/5 [00:00<?, ?it/s]"
      ]
     },
     "metadata": {},
     "output_type": "display_data"
    },
    {
     "data": {
      "application/vnd.jupyter.widget-view+json": {
       "model_id": "",
       "version_major": 2,
       "version_minor": 0
      },
      "text/plain": [
       "Inner pages:   0%|          | 0/5 [00:00<?, ?it/s]"
      ]
     },
     "metadata": {},
     "output_type": "display_data"
    },
    {
     "data": {
      "application/vnd.jupyter.widget-view+json": {
       "model_id": "",
       "version_major": 2,
       "version_minor": 0
      },
      "text/plain": [
       "Inner pages: 0it [00:00, ?it/s]"
      ]
     },
     "metadata": {},
     "output_type": "display_data"
    },
    {
     "data": {
      "application/vnd.jupyter.widget-view+json": {
       "model_id": "",
       "version_major": 2,
       "version_minor": 0
      },
      "text/plain": [
       "Inner pages: 0it [00:00, ?it/s]"
      ]
     },
     "metadata": {},
     "output_type": "display_data"
    },
    {
     "data": {
      "application/vnd.jupyter.widget-view+json": {
       "model_id": "",
       "version_major": 2,
       "version_minor": 0
      },
      "text/plain": [
       "Inner pages:   0%|          | 0/4 [00:00<?, ?it/s]"
      ]
     },
     "metadata": {},
     "output_type": "display_data"
    },
    {
     "data": {
      "application/vnd.jupyter.widget-view+json": {
       "model_id": "",
       "version_major": 2,
       "version_minor": 0
      },
      "text/plain": [
       "Inner pages: 0it [00:00, ?it/s]"
      ]
     },
     "metadata": {},
     "output_type": "display_data"
    },
    {
     "data": {
      "application/vnd.jupyter.widget-view+json": {
       "model_id": "",
       "version_major": 2,
       "version_minor": 0
      },
      "text/plain": [
       "Inner pages: 0it [00:00, ?it/s]"
      ]
     },
     "metadata": {},
     "output_type": "display_data"
    },
    {
     "data": {
      "application/vnd.jupyter.widget-view+json": {
       "model_id": "",
       "version_major": 2,
       "version_minor": 0
      },
      "text/plain": [
       "Inner pages: 0it [00:00, ?it/s]"
      ]
     },
     "metadata": {},
     "output_type": "display_data"
    },
    {
     "data": {
      "application/vnd.jupyter.widget-view+json": {
       "model_id": "",
       "version_major": 2,
       "version_minor": 0
      },
      "text/plain": [
       "Inner pages: 0it [00:00, ?it/s]"
      ]
     },
     "metadata": {},
     "output_type": "display_data"
    },
    {
     "data": {
      "application/vnd.jupyter.widget-view+json": {
       "model_id": "",
       "version_major": 2,
       "version_minor": 0
      },
      "text/plain": [
       "Inner pages: 0it [00:00, ?it/s]"
      ]
     },
     "metadata": {},
     "output_type": "display_data"
    },
    {
     "data": {
      "application/vnd.jupyter.widget-view+json": {
       "model_id": "",
       "version_major": 2,
       "version_minor": 0
      },
      "text/plain": [
       "Inner pages:   0%|          | 0/2 [00:00<?, ?it/s]"
      ]
     },
     "metadata": {},
     "output_type": "display_data"
    },
    {
     "data": {
      "application/vnd.jupyter.widget-view+json": {
       "model_id": "",
       "version_major": 2,
       "version_minor": 0
      },
      "text/plain": [
       "Inner pages:   0%|          | 0/2 [00:00<?, ?it/s]"
      ]
     },
     "metadata": {},
     "output_type": "display_data"
    },
    {
     "data": {
      "application/vnd.jupyter.widget-view+json": {
       "model_id": "",
       "version_major": 2,
       "version_minor": 0
      },
      "text/plain": [
       "Inner pages: 0it [00:00, ?it/s]"
      ]
     },
     "metadata": {},
     "output_type": "display_data"
    },
    {
     "data": {
      "application/vnd.jupyter.widget-view+json": {
       "model_id": "",
       "version_major": 2,
       "version_minor": 0
      },
      "text/plain": [
       "Inner pages: 0it [00:00, ?it/s]"
      ]
     },
     "metadata": {},
     "output_type": "display_data"
    },
    {
     "data": {
      "application/vnd.jupyter.widget-view+json": {
       "model_id": "",
       "version_major": 2,
       "version_minor": 0
      },
      "text/plain": [
       "Inner pages: 0it [00:00, ?it/s]"
      ]
     },
     "metadata": {},
     "output_type": "display_data"
    },
    {
     "data": {
      "application/vnd.jupyter.widget-view+json": {
       "model_id": "",
       "version_major": 2,
       "version_minor": 0
      },
      "text/plain": [
       "Inner pages: 0it [00:00, ?it/s]"
      ]
     },
     "metadata": {},
     "output_type": "display_data"
    },
    {
     "data": {
      "application/vnd.jupyter.widget-view+json": {
       "model_id": "",
       "version_major": 2,
       "version_minor": 0
      },
      "text/plain": [
       "Inner pages: 0it [00:00, ?it/s]"
      ]
     },
     "metadata": {},
     "output_type": "display_data"
    },
    {
     "data": {
      "application/vnd.jupyter.widget-view+json": {
       "model_id": "",
       "version_major": 2,
       "version_minor": 0
      },
      "text/plain": [
       "Inner pages: 0it [00:00, ?it/s]"
      ]
     },
     "metadata": {},
     "output_type": "display_data"
    },
    {
     "data": {
      "application/vnd.jupyter.widget-view+json": {
       "model_id": "",
       "version_major": 2,
       "version_minor": 0
      },
      "text/plain": [
       "Inner pages:   0%|          | 0/5 [00:00<?, ?it/s]"
      ]
     },
     "metadata": {},
     "output_type": "display_data"
    },
    {
     "data": {
      "application/vnd.jupyter.widget-view+json": {
       "model_id": "",
       "version_major": 2,
       "version_minor": 0
      },
      "text/plain": [
       "Inner pages:   0%|          | 0/4 [00:00<?, ?it/s]"
      ]
     },
     "metadata": {},
     "output_type": "display_data"
    },
    {
     "data": {
      "application/vnd.jupyter.widget-view+json": {
       "model_id": "",
       "version_major": 2,
       "version_minor": 0
      },
      "text/plain": [
       "Inner pages:   0%|          | 0/3 [00:00<?, ?it/s]"
      ]
     },
     "metadata": {},
     "output_type": "display_data"
    },
    {
     "data": {
      "application/vnd.jupyter.widget-view+json": {
       "model_id": "",
       "version_major": 2,
       "version_minor": 0
      },
      "text/plain": [
       "Inner pages:   0%|          | 0/5 [00:00<?, ?it/s]"
      ]
     },
     "metadata": {},
     "output_type": "display_data"
    },
    {
     "data": {
      "application/vnd.jupyter.widget-view+json": {
       "model_id": "",
       "version_major": 2,
       "version_minor": 0
      },
      "text/plain": [
       "Inner pages: 0it [00:00, ?it/s]"
      ]
     },
     "metadata": {},
     "output_type": "display_data"
    },
    {
     "data": {
      "application/vnd.jupyter.widget-view+json": {
       "model_id": "",
       "version_major": 2,
       "version_minor": 0
      },
      "text/plain": [
       "Inner pages:   0%|          | 0/2 [00:00<?, ?it/s]"
      ]
     },
     "metadata": {},
     "output_type": "display_data"
    },
    {
     "data": {
      "application/vnd.jupyter.widget-view+json": {
       "model_id": "",
       "version_major": 2,
       "version_minor": 0
      },
      "text/plain": [
       "Inner pages:   0%|          | 0/2 [00:00<?, ?it/s]"
      ]
     },
     "metadata": {},
     "output_type": "display_data"
    },
    {
     "data": {
      "application/vnd.jupyter.widget-view+json": {
       "model_id": "",
       "version_major": 2,
       "version_minor": 0
      },
      "text/plain": [
       "Inner pages: 0it [00:00, ?it/s]"
      ]
     },
     "metadata": {},
     "output_type": "display_data"
    },
    {
     "data": {
      "application/vnd.jupyter.widget-view+json": {
       "model_id": "",
       "version_major": 2,
       "version_minor": 0
      },
      "text/plain": [
       "Inner pages:   0%|          | 0/6 [00:00<?, ?it/s]"
      ]
     },
     "metadata": {},
     "output_type": "display_data"
    },
    {
     "data": {
      "application/vnd.jupyter.widget-view+json": {
       "model_id": "",
       "version_major": 2,
       "version_minor": 0
      },
      "text/plain": [
       "Inner pages:   0%|          | 0/1 [00:00<?, ?it/s]"
      ]
     },
     "metadata": {},
     "output_type": "display_data"
    },
    {
     "data": {
      "application/vnd.jupyter.widget-view+json": {
       "model_id": "",
       "version_major": 2,
       "version_minor": 0
      },
      "text/plain": [
       "Inner pages:   0%|          | 0/6 [00:00<?, ?it/s]"
      ]
     },
     "metadata": {},
     "output_type": "display_data"
    },
    {
     "data": {
      "application/vnd.jupyter.widget-view+json": {
       "model_id": "",
       "version_major": 2,
       "version_minor": 0
      },
      "text/plain": [
       "Inner pages:   0%|          | 0/6 [00:00<?, ?it/s]"
      ]
     },
     "metadata": {},
     "output_type": "display_data"
    },
    {
     "data": {
      "application/vnd.jupyter.widget-view+json": {
       "model_id": "",
       "version_major": 2,
       "version_minor": 0
      },
      "text/plain": [
       "Inner pages: 0it [00:00, ?it/s]"
      ]
     },
     "metadata": {},
     "output_type": "display_data"
    },
    {
     "data": {
      "application/vnd.jupyter.widget-view+json": {
       "model_id": "",
       "version_major": 2,
       "version_minor": 0
      },
      "text/plain": [
       "Inner pages:   0%|          | 0/1 [00:00<?, ?it/s]"
      ]
     },
     "metadata": {},
     "output_type": "display_data"
    },
    {
     "data": {
      "application/vnd.jupyter.widget-view+json": {
       "model_id": "",
       "version_major": 2,
       "version_minor": 0
      },
      "text/plain": [
       "Inner pages: 0it [00:00, ?it/s]"
      ]
     },
     "metadata": {},
     "output_type": "display_data"
    },
    {
     "data": {
      "application/vnd.jupyter.widget-view+json": {
       "model_id": "",
       "version_major": 2,
       "version_minor": 0
      },
      "text/plain": [
       "Inner pages:   0%|          | 0/6 [00:00<?, ?it/s]"
      ]
     },
     "metadata": {},
     "output_type": "display_data"
    },
    {
     "data": {
      "application/vnd.jupyter.widget-view+json": {
       "model_id": "",
       "version_major": 2,
       "version_minor": 0
      },
      "text/plain": [
       "Inner pages: 0it [00:00, ?it/s]"
      ]
     },
     "metadata": {},
     "output_type": "display_data"
    },
    {
     "data": {
      "application/vnd.jupyter.widget-view+json": {
       "model_id": "",
       "version_major": 2,
       "version_minor": 0
      },
      "text/plain": [
       "Inner pages: 0it [00:00, ?it/s]"
      ]
     },
     "metadata": {},
     "output_type": "display_data"
    },
    {
     "data": {
      "application/vnd.jupyter.widget-view+json": {
       "model_id": "",
       "version_major": 2,
       "version_minor": 0
      },
      "text/plain": [
       "Inner pages: 0it [00:00, ?it/s]"
      ]
     },
     "metadata": {},
     "output_type": "display_data"
    },
    {
     "data": {
      "application/vnd.jupyter.widget-view+json": {
       "model_id": "",
       "version_major": 2,
       "version_minor": 0
      },
      "text/plain": [
       "Inner pages: 0it [00:00, ?it/s]"
      ]
     },
     "metadata": {},
     "output_type": "display_data"
    },
    {
     "data": {
      "application/vnd.jupyter.widget-view+json": {
       "model_id": "",
       "version_major": 2,
       "version_minor": 0
      },
      "text/plain": [
       "Inner pages: 0it [00:00, ?it/s]"
      ]
     },
     "metadata": {},
     "output_type": "display_data"
    },
    {
     "data": {
      "application/vnd.jupyter.widget-view+json": {
       "model_id": "",
       "version_major": 2,
       "version_minor": 0
      },
      "text/plain": [
       "Inner pages: 0it [00:00, ?it/s]"
      ]
     },
     "metadata": {},
     "output_type": "display_data"
    },
    {
     "data": {
      "application/vnd.jupyter.widget-view+json": {
       "model_id": "",
       "version_major": 2,
       "version_minor": 0
      },
      "text/plain": [
       "Inner pages: 0it [00:00, ?it/s]"
      ]
     },
     "metadata": {},
     "output_type": "display_data"
    },
    {
     "data": {
      "application/vnd.jupyter.widget-view+json": {
       "model_id": "",
       "version_major": 2,
       "version_minor": 0
      },
      "text/plain": [
       "Inner pages: 0it [00:00, ?it/s]"
      ]
     },
     "metadata": {},
     "output_type": "display_data"
    },
    {
     "data": {
      "application/vnd.jupyter.widget-view+json": {
       "model_id": "",
       "version_major": 2,
       "version_minor": 0
      },
      "text/plain": [
       "Inner pages: 0it [00:00, ?it/s]"
      ]
     },
     "metadata": {},
     "output_type": "display_data"
    },
    {
     "data": {
      "application/vnd.jupyter.widget-view+json": {
       "model_id": "",
       "version_major": 2,
       "version_minor": 0
      },
      "text/plain": [
       "Inner pages:   0%|          | 0/1 [00:00<?, ?it/s]"
      ]
     },
     "metadata": {},
     "output_type": "display_data"
    },
    {
     "data": {
      "application/vnd.jupyter.widget-view+json": {
       "model_id": "",
       "version_major": 2,
       "version_minor": 0
      },
      "text/plain": [
       "Inner pages:   0%|          | 0/1 [00:00<?, ?it/s]"
      ]
     },
     "metadata": {},
     "output_type": "display_data"
    },
    {
     "data": {
      "application/vnd.jupyter.widget-view+json": {
       "model_id": "",
       "version_major": 2,
       "version_minor": 0
      },
      "text/plain": [
       "Inner pages: 0it [00:00, ?it/s]"
      ]
     },
     "metadata": {},
     "output_type": "display_data"
    },
    {
     "data": {
      "application/vnd.jupyter.widget-view+json": {
       "model_id": "",
       "version_major": 2,
       "version_minor": 0
      },
      "text/plain": [
       "Inner pages:   0%|          | 0/1 [00:00<?, ?it/s]"
      ]
     },
     "metadata": {},
     "output_type": "display_data"
    },
    {
     "data": {
      "application/vnd.jupyter.widget-view+json": {
       "model_id": "",
       "version_major": 2,
       "version_minor": 0
      },
      "text/plain": [
       "Inner pages:   0%|          | 0/1 [00:00<?, ?it/s]"
      ]
     },
     "metadata": {},
     "output_type": "display_data"
    },
    {
     "data": {
      "application/vnd.jupyter.widget-view+json": {
       "model_id": "",
       "version_major": 2,
       "version_minor": 0
      },
      "text/plain": [
       "Inner pages: 0it [00:00, ?it/s]"
      ]
     },
     "metadata": {},
     "output_type": "display_data"
    },
    {
     "data": {
      "application/vnd.jupyter.widget-view+json": {
       "model_id": "7e2acef9a80c4656bf2537b54fbaf6ac",
       "version_major": 2,
       "version_minor": 0
      },
      "text/plain": [
       "Inner pages:   0%|          | 0/1 [00:00<?, ?it/s]"
      ]
     },
     "metadata": {},
     "output_type": "display_data"
    },
    {
     "data": {
      "application/vnd.jupyter.widget-view+json": {
       "model_id": "d19ff054519047849c09dadca4e1072a",
       "version_major": 2,
       "version_minor": 0
      },
      "text/plain": [
       "Inner pages:   0%|          | 0/1 [00:00<?, ?it/s]"
      ]
     },
     "metadata": {},
     "output_type": "display_data"
    },
    {
     "data": {
      "application/vnd.jupyter.widget-view+json": {
       "model_id": "4acc1c01667c4f928f78c4af0543a2f3",
       "version_major": 2,
       "version_minor": 0
      },
      "text/plain": [
       "Inner pages: 0it [00:00, ?it/s]"
      ]
     },
     "metadata": {},
     "output_type": "display_data"
    }
   ],
   "source": [
    "all_pages = []\n",
    "for page in tqdm(pages, desc='Letter pages'):\n",
    "    all_pages.append(page)\n",
    "    soup = bs(page, 'lxml')\n",
    "    inner_links = soup.find('div', {'class': 'paginator_dict'}).findAll('a')\n",
    "    inner_links = [a['href'] for a in inner_links if not a.text in ['<<', '>>']]\n",
    "    for inner_link in tqdm(inner_links[1:], desc='Inner pages', leave=False):\n",
    "        new_page = requests.get('https://dict.fu-lab.ru' + inner_link).text\n",
    "        all_pages.append(new_page)"
   ]
  },
  {
   "cell_type": "markdown",
   "id": "5ae4f1b9-23b9-4559-8b67-b0d180698a72",
   "metadata": {},
   "source": [
    "фомирование итогового списка переводов"
   ]
  },
  {
   "cell_type": "code",
   "execution_count": 24,
   "id": "11b8ed4e-1b46-4e57-ae84-64e62bbf8606",
   "metadata": {},
   "outputs": [],
   "source": [
    "all_words = []"
   ]
  },
  {
   "cell_type": "code",
   "execution_count": 25,
   "id": "53d645ba-9123-4d3f-9bea-d76b8e085804",
   "metadata": {},
   "outputs": [
    {
     "data": {
      "application/vnd.jupyter.widget-view+json": {
       "model_id": "59a268ce103a411ab5ed289f1f565874",
       "version_major": 2,
       "version_minor": 0
      },
      "text/plain": [
       "  0%|          | 0/123 [00:00<?, ?it/s]"
      ]
     },
     "metadata": {},
     "output_type": "display_data"
    }
   ],
   "source": [
    "for page in tqdm(all_pages):\n",
    "    all_words.extend([(div.findAll('div')[0].find('a').text, div.findAll('div')[1].find('span').text) for div in bs(page).findAll('div', {'class': 'row dict_p_content_item'})])"
   ]
  },
  {
   "cell_type": "code",
   "execution_count": 27,
   "id": "3f909795-517a-4112-8c51-b72bb254bf92",
   "metadata": {},
   "outputs": [
    {
     "data": {
      "text/html": [
       "<div>\n",
       "<style scoped>\n",
       "    .dataframe tbody tr th:only-of-type {\n",
       "        vertical-align: middle;\n",
       "    }\n",
       "\n",
       "    .dataframe tbody tr th {\n",
       "        vertical-align: top;\n",
       "    }\n",
       "\n",
       "    .dataframe thead th {\n",
       "        text-align: right;\n",
       "    }\n",
       "</style>\n",
       "<table border=\"1\" class=\"dataframe\">\n",
       "  <thead>\n",
       "    <tr style=\"text-align: right;\">\n",
       "      <th></th>\n",
       "      <th>target</th>\n",
       "      <th>source</th>\n",
       "    </tr>\n",
       "  </thead>\n",
       "  <tbody>\n",
       "    <tr>\n",
       "      <th>0</th>\n",
       "      <td>а̄ӈкв</td>\n",
       "      <td>самка лося</td>\n",
       "    </tr>\n",
       "    <tr>\n",
       "      <th>1</th>\n",
       "      <td>а̄ӈква̄ги</td>\n",
       "      <td>двоюродная сестра (по материнской линии)</td>\n",
       "    </tr>\n",
       "    <tr>\n",
       "      <th>2</th>\n",
       "      <td>а̄ӈквал</td>\n",
       "      <td>1. столб2. пень</td>\n",
       "    </tr>\n",
       "    <tr>\n",
       "      <th>3</th>\n",
       "      <td>а̄ӈквата̄луӈкве</td>\n",
       "      <td>взглянуть, посмотреть</td>\n",
       "    </tr>\n",
       "    <tr>\n",
       "      <th>4</th>\n",
       "      <td>а̄ӈкватаӈкве</td>\n",
       "      <td>взглянуть</td>\n",
       "    </tr>\n",
       "    <tr>\n",
       "      <th>...</th>\n",
       "      <td>...</td>\n",
       "      <td>...</td>\n",
       "    </tr>\n",
       "    <tr>\n",
       "      <th>4375</th>\n",
       "      <td>я̄смилыӈ</td>\n",
       "      <td>полосатый (о ткани)</td>\n",
       "    </tr>\n",
       "    <tr>\n",
       "      <th>4376</th>\n",
       "      <td>я̄тил</td>\n",
       "      <td>милый, любезный</td>\n",
       "    </tr>\n",
       "    <tr>\n",
       "      <th>4377</th>\n",
       "      <td>ятри</td>\n",
       "      <td>косач (птица)</td>\n",
       "    </tr>\n",
       "    <tr>\n",
       "      <th>4378</th>\n",
       "      <td>я̄хул</td>\n",
       "      <td>чебак</td>\n",
       "    </tr>\n",
       "    <tr>\n",
       "      <th>4379</th>\n",
       "      <td>яхам</td>\n",
       "      <td>духота, душно</td>\n",
       "    </tr>\n",
       "  </tbody>\n",
       "</table>\n",
       "<p>4380 rows × 2 columns</p>\n",
       "</div>"
      ],
      "text/plain": [
       "               target                                    source\n",
       "0               а̄ӈкв                                самка лося\n",
       "1           а̄ӈква̄ги  двоюродная сестра (по материнской линии)\n",
       "2             а̄ӈквал                           1. столб2. пень\n",
       "3     а̄ӈквата̄луӈкве                     взглянуть, посмотреть\n",
       "4        а̄ӈкватаӈкве                                 взглянуть\n",
       "...               ...                                       ...\n",
       "4375         я̄смилыӈ                       полосатый (о ткани)\n",
       "4376            я̄тил                           милый, любезный\n",
       "4377             ятри                             косач (птица)\n",
       "4378            я̄хул                                     чебак\n",
       "4379             яхам                             духота, душно\n",
       "\n",
       "[4380 rows x 2 columns]"
      ]
     },
     "execution_count": 27,
     "metadata": {},
     "output_type": "execute_result"
    }
   ],
   "source": [
    "words_df = pd.DataFrame({\n",
    "    'target': [el[0] for el in all_words],\n",
    "    'source': [el[1] for el in all_words]\n",
    "})\n",
    "words_df"
   ]
  },
  {
   "cell_type": "markdown",
   "id": "b635c07c-bda5-4e5f-a3bd-6f034fd8a117",
   "metadata": {},
   "source": [
    "# пост обработка"
   ]
  },
  {
   "cell_type": "markdown",
   "id": "e3b5bb4a-b2c0-47ef-93cb-439ad708460b",
   "metadata": {},
   "source": [
    "## удаление дубликатов"
   ]
  },
  {
   "cell_type": "code",
   "execution_count": 38,
   "id": "3cdd53b3-4400-4f96-ab66-5039f635eaba",
   "metadata": {},
   "outputs": [
    {
     "data": {
      "text/plain": [
       "785"
      ]
     },
     "execution_count": 38,
     "metadata": {},
     "output_type": "execute_result"
    }
   ],
   "source": [
    "words_df.duplicated().sum()"
   ]
  },
  {
   "cell_type": "code",
   "execution_count": 39,
   "id": "b25a3c95-5b1d-484d-b11c-d050b9a3b372",
   "metadata": {},
   "outputs": [
    {
     "data": {
      "text/html": [
       "<div>\n",
       "<style scoped>\n",
       "    .dataframe tbody tr th:only-of-type {\n",
       "        vertical-align: middle;\n",
       "    }\n",
       "\n",
       "    .dataframe tbody tr th {\n",
       "        vertical-align: top;\n",
       "    }\n",
       "\n",
       "    .dataframe thead th {\n",
       "        text-align: right;\n",
       "    }\n",
       "</style>\n",
       "<table border=\"1\" class=\"dataframe\">\n",
       "  <thead>\n",
       "    <tr style=\"text-align: right;\">\n",
       "      <th></th>\n",
       "      <th>target</th>\n",
       "      <th>source</th>\n",
       "    </tr>\n",
       "  </thead>\n",
       "  <tbody>\n",
       "    <tr>\n",
       "      <th>0</th>\n",
       "      <td>а̄ӈкв</td>\n",
       "      <td>самка лося</td>\n",
       "    </tr>\n",
       "    <tr>\n",
       "      <th>1</th>\n",
       "      <td>а̄ӈква̄ги</td>\n",
       "      <td>двоюродная сестра (по материнской линии)</td>\n",
       "    </tr>\n",
       "    <tr>\n",
       "      <th>2</th>\n",
       "      <td>а̄ӈквал</td>\n",
       "      <td>1. столб2. пень</td>\n",
       "    </tr>\n",
       "    <tr>\n",
       "      <th>3</th>\n",
       "      <td>а̄ӈквата̄луӈкве</td>\n",
       "      <td>взглянуть, посмотреть</td>\n",
       "    </tr>\n",
       "    <tr>\n",
       "      <th>4</th>\n",
       "      <td>а̄ӈкватаӈкве</td>\n",
       "      <td>взглянуть</td>\n",
       "    </tr>\n",
       "    <tr>\n",
       "      <th>...</th>\n",
       "      <td>...</td>\n",
       "      <td>...</td>\n",
       "    </tr>\n",
       "    <tr>\n",
       "      <th>3590</th>\n",
       "      <td>я̄смилыӈ</td>\n",
       "      <td>полосатый (о ткани)</td>\n",
       "    </tr>\n",
       "    <tr>\n",
       "      <th>3591</th>\n",
       "      <td>я̄тил</td>\n",
       "      <td>милый, любезный</td>\n",
       "    </tr>\n",
       "    <tr>\n",
       "      <th>3592</th>\n",
       "      <td>ятри</td>\n",
       "      <td>косач (птица)</td>\n",
       "    </tr>\n",
       "    <tr>\n",
       "      <th>3593</th>\n",
       "      <td>я̄хул</td>\n",
       "      <td>чебак</td>\n",
       "    </tr>\n",
       "    <tr>\n",
       "      <th>3594</th>\n",
       "      <td>яхам</td>\n",
       "      <td>духота, душно</td>\n",
       "    </tr>\n",
       "  </tbody>\n",
       "</table>\n",
       "<p>3595 rows × 2 columns</p>\n",
       "</div>"
      ],
      "text/plain": [
       "               target                                    source\n",
       "0               а̄ӈкв                                самка лося\n",
       "1           а̄ӈква̄ги  двоюродная сестра (по материнской линии)\n",
       "2             а̄ӈквал                           1. столб2. пень\n",
       "3     а̄ӈквата̄луӈкве                     взглянуть, посмотреть\n",
       "4        а̄ӈкватаӈкве                                 взглянуть\n",
       "...               ...                                       ...\n",
       "3590         я̄смилыӈ                       полосатый (о ткани)\n",
       "3591            я̄тил                           милый, любезный\n",
       "3592             ятри                             косач (птица)\n",
       "3593            я̄хул                                     чебак\n",
       "3594             яхам                             духота, душно\n",
       "\n",
       "[3595 rows x 2 columns]"
      ]
     },
     "execution_count": 39,
     "metadata": {},
     "output_type": "execute_result"
    }
   ],
   "source": [
    "words_df = words_df.drop_duplicates(keep='first').reset_index(drop=True)\n",
    "words_df"
   ]
  },
  {
   "cell_type": "markdown",
   "id": "c8a6c099-012a-473a-946d-dcfe2bd444a4",
   "metadata": {},
   "source": [
    "## проверки на символы"
   ]
  },
  {
   "cell_type": "code",
   "execution_count": 40,
   "id": "b4f431d3-77b8-4d29-8470-3a860e1cf7f4",
   "metadata": {},
   "outputs": [
    {
     "data": {
      "text/html": [
       "<div>\n",
       "<style scoped>\n",
       "    .dataframe tbody tr th:only-of-type {\n",
       "        vertical-align: middle;\n",
       "    }\n",
       "\n",
       "    .dataframe tbody tr th {\n",
       "        vertical-align: top;\n",
       "    }\n",
       "\n",
       "    .dataframe thead th {\n",
       "        text-align: right;\n",
       "    }\n",
       "</style>\n",
       "<table border=\"1\" class=\"dataframe\">\n",
       "  <thead>\n",
       "    <tr style=\"text-align: right;\">\n",
       "      <th></th>\n",
       "      <th>target</th>\n",
       "      <th>source</th>\n",
       "    </tr>\n",
       "  </thead>\n",
       "  <tbody>\n",
       "    <tr>\n",
       "      <th>226</th>\n",
       "      <td>ат</td>\n",
       "      <td>Ⅰчаст.не    ат минэ̄гум не пойдуⅡпятьⅢзапах</td>\n",
       "    </tr>\n",
       "  </tbody>\n",
       "</table>\n",
       "</div>"
      ],
      "text/plain": [
       "    target                                       source\n",
       "226     ат  Ⅰчаст.не    ат минэ̄гум не пойдуⅡпятьⅢзапах"
      ]
     },
     "execution_count": 40,
     "metadata": {},
     "output_type": "execute_result"
    }
   ],
   "source": [
    "words_df[words_df.source.str.contains('Ⅰ')]"
   ]
  },
  {
   "cell_type": "code",
   "execution_count": 49,
   "id": "40c9e4dc-7f42-4b14-bea0-7349119cc8bf",
   "metadata": {},
   "outputs": [
    {
     "data": {
      "text/html": [
       "<div>\n",
       "<style scoped>\n",
       "    .dataframe tbody tr th:only-of-type {\n",
       "        vertical-align: middle;\n",
       "    }\n",
       "\n",
       "    .dataframe tbody tr th {\n",
       "        vertical-align: top;\n",
       "    }\n",
       "\n",
       "    .dataframe thead th {\n",
       "        text-align: right;\n",
       "    }\n",
       "</style>\n",
       "<table border=\"1\" class=\"dataframe\">\n",
       "  <thead>\n",
       "    <tr style=\"text-align: right;\">\n",
       "      <th></th>\n",
       "      <th>target</th>\n",
       "      <th>source</th>\n",
       "    </tr>\n",
       "  </thead>\n",
       "  <tbody>\n",
       "    <tr>\n",
       "      <th>2</th>\n",
       "      <td>а̄ӈквал</td>\n",
       "      <td>1. столб2. пень</td>\n",
       "    </tr>\n",
       "    <tr>\n",
       "      <th>15</th>\n",
       "      <td>а̄ги</td>\n",
       "      <td>1. дочь2. девушка</td>\n",
       "    </tr>\n",
       "    <tr>\n",
       "      <th>16</th>\n",
       "      <td>а̄гирись</td>\n",
       "      <td>1. девочка2. дочка</td>\n",
       "    </tr>\n",
       "    <tr>\n",
       "      <th>122</th>\n",
       "      <td>ала</td>\n",
       "      <td>1. крыша2. крышка</td>\n",
       "    </tr>\n",
       "    <tr>\n",
       "      <th>129</th>\n",
       "      <td>алуӈкве</td>\n",
       "      <td>1. убить2. добыть (рыбу, зверя)</td>\n",
       "    </tr>\n",
       "    <tr>\n",
       "      <th>...</th>\n",
       "      <td>...</td>\n",
       "      <td>...</td>\n",
       "    </tr>\n",
       "    <tr>\n",
       "      <th>3567</th>\n",
       "      <td>яныг</td>\n",
       "      <td>1. большой2. великий3. старший4. главный</td>\n",
       "    </tr>\n",
       "    <tr>\n",
       "      <th>3578</th>\n",
       "      <td>яныт</td>\n",
       "      <td>1. величина2. возраст</td>\n",
       "    </tr>\n",
       "    <tr>\n",
       "      <th>3584</th>\n",
       "      <td>я̄рмалтаӈкве</td>\n",
       "      <td>1. задержать2. загородить</td>\n",
       "    </tr>\n",
       "    <tr>\n",
       "      <th>3586</th>\n",
       "      <td>я̄ртпи</td>\n",
       "      <td>1. преграда2. заграждение</td>\n",
       "    </tr>\n",
       "    <tr>\n",
       "      <th>3589</th>\n",
       "      <td>я̄с</td>\n",
       "      <td>1. колея2. русло</td>\n",
       "    </tr>\n",
       "  </tbody>\n",
       "</table>\n",
       "<p>245 rows × 2 columns</p>\n",
       "</div>"
      ],
      "text/plain": [
       "            target                                    source\n",
       "2          а̄ӈквал                           1. столб2. пень\n",
       "15            а̄ги                         1. дочь2. девушка\n",
       "16        а̄гирись                        1. девочка2. дочка\n",
       "122            ала                         1. крыша2. крышка\n",
       "129        алуӈкве           1. убить2. добыть (рыбу, зверя)\n",
       "...            ...                                       ...\n",
       "3567          яныг  1. большой2. великий3. старший4. главный\n",
       "3578          яныт                     1. величина2. возраст\n",
       "3584  я̄рмалтаӈкве                 1. задержать2. загородить\n",
       "3586        я̄ртпи                 1. преграда2. заграждение\n",
       "3589           я̄с                          1. колея2. русло\n",
       "\n",
       "[245 rows x 2 columns]"
      ]
     },
     "execution_count": 49,
     "metadata": {},
     "output_type": "execute_result"
    }
   ],
   "source": [
    "words_df[words_df.source.str.contains('1.')]"
   ]
  },
  {
   "cell_type": "markdown",
   "id": "81c45737-cf19-407c-beaf-8a98d49e37ca",
   "metadata": {},
   "source": [
    "здесь исправил одно супер кривое слово"
   ]
  },
  {
   "cell_type": "code",
   "execution_count": 50,
   "id": "3ca6a827-0e1f-4ab7-a3c0-2a04a156c351",
   "metadata": {},
   "outputs": [],
   "source": [
    "words_df.loc[226, 'source'] = '1.не2.пять3.запах'"
   ]
  },
  {
   "cell_type": "markdown",
   "id": "1921e83b-217b-40c0-9293-8e9633682025",
   "metadata": {},
   "source": [
    "избавляемся от xa0, за ним идет пример употребления"
   ]
  },
  {
   "cell_type": "code",
   "execution_count": 56,
   "id": "53372c0e-b9f5-40c0-a818-e849cfab4d61",
   "metadata": {},
   "outputs": [
    {
     "data": {
      "text/html": [
       "<div>\n",
       "<style scoped>\n",
       "    .dataframe tbody tr th:only-of-type {\n",
       "        vertical-align: middle;\n",
       "    }\n",
       "\n",
       "    .dataframe tbody tr th {\n",
       "        vertical-align: top;\n",
       "    }\n",
       "\n",
       "    .dataframe thead th {\n",
       "        text-align: right;\n",
       "    }\n",
       "</style>\n",
       "<table border=\"1\" class=\"dataframe\">\n",
       "  <thead>\n",
       "    <tr style=\"text-align: right;\">\n",
       "      <th></th>\n",
       "      <th>target</th>\n",
       "      <th>source</th>\n",
       "    </tr>\n",
       "  </thead>\n",
       "  <tbody>\n",
       "    <tr>\n",
       "      <th>36</th>\n",
       "      <td>акв</td>\n",
       "      <td>один    акв хум один мужчина</td>\n",
       "    </tr>\n",
       "    <tr>\n",
       "      <th>223</th>\n",
       "      <td>а̄ти</td>\n",
       "      <td>нет    а̄ти, ат минэ̄гум нет, не пойду</td>\n",
       "    </tr>\n",
       "    <tr>\n",
       "      <th>248</th>\n",
       "      <td>атыр</td>\n",
       "      <td>ясный    атыр то̄рум ясное небо</td>\n",
       "    </tr>\n",
       "    <tr>\n",
       "      <th>677</th>\n",
       "      <td>иӈыт</td>\n",
       "      <td>ещё не    а̄сюм иӈыт ёхты отец ещё не приехал</td>\n",
       "    </tr>\n",
       "    <tr>\n",
       "      <th>1914</th>\n",
       "      <td>паттыл</td>\n",
       "      <td>сбивание    па̄кв паттыл сбивание кедровых шишек</td>\n",
       "    </tr>\n",
       "  </tbody>\n",
       "</table>\n",
       "</div>"
      ],
      "text/plain": [
       "      target                                            source\n",
       "36       акв                      один    акв хум один мужчина\n",
       "223     а̄ти            нет    а̄ти, ат минэ̄гум нет, не пойду\n",
       "248     атыр                   ясный    атыр то̄рум ясное небо\n",
       "677     иӈыт     ещё не    а̄сюм иӈыт ёхты отец ещё не приехал\n",
       "1914  паттыл  сбивание    па̄кв паттыл сбивание кедровых шишек"
      ]
     },
     "execution_count": 56,
     "metadata": {},
     "output_type": "execute_result"
    }
   ],
   "source": [
    "words_df.loc[words_df.source.str.contains('\\xa0')]"
   ]
  },
  {
   "cell_type": "markdown",
   "id": "a1fc44f1-8201-4c9f-bf57-05c1b7acadd4",
   "metadata": {},
   "source": [
    "их всего 5 штук, так что можно вручную добавить их в датасет"
   ]
  },
  {
   "cell_type": "code",
   "execution_count": 57,
   "id": "6704a658-083c-4904-a2be-a512c8862a8e",
   "metadata": {},
   "outputs": [
    {
     "data": {
      "text/html": [
       "<div>\n",
       "<style scoped>\n",
       "    .dataframe tbody tr th:only-of-type {\n",
       "        vertical-align: middle;\n",
       "    }\n",
       "\n",
       "    .dataframe tbody tr th {\n",
       "        vertical-align: top;\n",
       "    }\n",
       "\n",
       "    .dataframe thead th {\n",
       "        text-align: right;\n",
       "    }\n",
       "</style>\n",
       "<table border=\"1\" class=\"dataframe\">\n",
       "  <thead>\n",
       "    <tr style=\"text-align: right;\">\n",
       "      <th></th>\n",
       "      <th>target</th>\n",
       "      <th>source</th>\n",
       "    </tr>\n",
       "  </thead>\n",
       "  <tbody>\n",
       "    <tr>\n",
       "      <th>0</th>\n",
       "      <td>акв хум</td>\n",
       "      <td>один мужчина</td>\n",
       "    </tr>\n",
       "    <tr>\n",
       "      <th>1</th>\n",
       "      <td>а̄ти, ат минэ̄гум</td>\n",
       "      <td>нет, не пойду</td>\n",
       "    </tr>\n",
       "    <tr>\n",
       "      <th>2</th>\n",
       "      <td>атыр то̄рум</td>\n",
       "      <td>ясное небо</td>\n",
       "    </tr>\n",
       "    <tr>\n",
       "      <th>3</th>\n",
       "      <td>а̄сюм иӈыт ёхты</td>\n",
       "      <td>отец ещё не приехал</td>\n",
       "    </tr>\n",
       "    <tr>\n",
       "      <th>4</th>\n",
       "      <td>па̄кв паттыл</td>\n",
       "      <td>сбивание кедровых шишек</td>\n",
       "    </tr>\n",
       "  </tbody>\n",
       "</table>\n",
       "</div>"
      ],
      "text/plain": [
       "              target                   source\n",
       "0            акв хум             один мужчина\n",
       "1  а̄ти, ат минэ̄гум            нет, не пойду\n",
       "2        атыр то̄рум               ясное небо\n",
       "3    а̄сюм иӈыт ёхты      отец ещё не приехал\n",
       "4       па̄кв паттыл  сбивание кедровых шишек"
      ]
     },
     "execution_count": 57,
     "metadata": {},
     "output_type": "execute_result"
    }
   ],
   "source": [
    "add_df = pd.DataFrame({\n",
    "    'target': [\n",
    "        'акв хум',\n",
    "        'а̄ти, ат минэ̄гум',\n",
    "        'атыр то̄рум',\n",
    "        'а̄сюм иӈыт ёхты',\n",
    "        'па̄кв паттыл'\n",
    "    ],\n",
    "    'source': [\n",
    "        'один мужчина',\n",
    "        'нет, не пойду',\n",
    "        'ясное небо',\n",
    "        'отец ещё не приехал',\n",
    "        'сбивание кедровых шишек'\n",
    "    ]\n",
    "})\n",
    "add_df"
   ]
  },
  {
   "cell_type": "code",
   "execution_count": 60,
   "id": "5daae6e7-248d-4a4f-9cff-65906a824616",
   "metadata": {},
   "outputs": [],
   "source": [
    "words_df = pd.concat([words_df, add_df], axis=0, ignore_index=True)"
   ]
  },
  {
   "cell_type": "markdown",
   "id": "47222ca8-b2ed-4c11-ba4d-78de342c3b34",
   "metadata": {},
   "source": [
    "и убираем теперь сами переводы"
   ]
  },
  {
   "cell_type": "code",
   "execution_count": 61,
   "id": "ebea40bd-6506-40b2-95e1-1ea7fb890f18",
   "metadata": {},
   "outputs": [
    {
     "data": {
      "text/plain": [
       "['один', 'нет', 'ясный', 'ещё не', 'сбивание']"
      ]
     },
     "execution_count": 61,
     "metadata": {},
     "output_type": "execute_result"
    }
   ],
   "source": [
    "words_df[words_df.source.str.contains('\\xa0')].applymap(lambda x: x[:x.find('\\xa0')]).source.tolist()"
   ]
  },
  {
   "cell_type": "code",
   "execution_count": 62,
   "id": "d5ebdf5b-9766-448b-97ed-da70dc32402b",
   "metadata": {},
   "outputs": [],
   "source": [
    "words_df.loc[words_df.source.str.contains('\\xa0'), 'source'] = words_df[words_df.source.str.contains('\\xa0')].applymap(lambda x: x[:x.find('\\xa0')]).source.tolist()"
   ]
  },
  {
   "cell_type": "code",
   "execution_count": 63,
   "id": "a176ef4e-bf01-401b-bd22-9547d71d8f55",
   "metadata": {},
   "outputs": [
    {
     "data": {
      "text/html": [
       "<div>\n",
       "<style scoped>\n",
       "    .dataframe tbody tr th:only-of-type {\n",
       "        vertical-align: middle;\n",
       "    }\n",
       "\n",
       "    .dataframe tbody tr th {\n",
       "        vertical-align: top;\n",
       "    }\n",
       "\n",
       "    .dataframe thead th {\n",
       "        text-align: right;\n",
       "    }\n",
       "</style>\n",
       "<table border=\"1\" class=\"dataframe\">\n",
       "  <thead>\n",
       "    <tr style=\"text-align: right;\">\n",
       "      <th></th>\n",
       "      <th>target</th>\n",
       "      <th>source</th>\n",
       "    </tr>\n",
       "  </thead>\n",
       "  <tbody>\n",
       "    <tr>\n",
       "      <th>0</th>\n",
       "      <td>а̄ӈкв</td>\n",
       "      <td>самка лося</td>\n",
       "    </tr>\n",
       "    <tr>\n",
       "      <th>1</th>\n",
       "      <td>а̄ӈква̄ги</td>\n",
       "      <td>двоюродная сестра (по материнской линии)</td>\n",
       "    </tr>\n",
       "    <tr>\n",
       "      <th>2</th>\n",
       "      <td>а̄ӈквал</td>\n",
       "      <td>1. столб2. пень</td>\n",
       "    </tr>\n",
       "    <tr>\n",
       "      <th>3</th>\n",
       "      <td>а̄ӈквата̄луӈкве</td>\n",
       "      <td>взглянуть, посмотреть</td>\n",
       "    </tr>\n",
       "    <tr>\n",
       "      <th>4</th>\n",
       "      <td>а̄ӈкватаӈкве</td>\n",
       "      <td>взглянуть</td>\n",
       "    </tr>\n",
       "    <tr>\n",
       "      <th>...</th>\n",
       "      <td>...</td>\n",
       "      <td>...</td>\n",
       "    </tr>\n",
       "    <tr>\n",
       "      <th>3595</th>\n",
       "      <td>акв хум</td>\n",
       "      <td>один мужчина</td>\n",
       "    </tr>\n",
       "    <tr>\n",
       "      <th>3596</th>\n",
       "      <td>а̄ти, ат минэ̄гум</td>\n",
       "      <td>нет, не пойду</td>\n",
       "    </tr>\n",
       "    <tr>\n",
       "      <th>3597</th>\n",
       "      <td>атыр то̄рум</td>\n",
       "      <td>ясное небо</td>\n",
       "    </tr>\n",
       "    <tr>\n",
       "      <th>3598</th>\n",
       "      <td>а̄сюм иӈыт ёхты</td>\n",
       "      <td>отец ещё не приехал</td>\n",
       "    </tr>\n",
       "    <tr>\n",
       "      <th>3599</th>\n",
       "      <td>па̄кв паттыл</td>\n",
       "      <td>сбивание кедровых шишек</td>\n",
       "    </tr>\n",
       "  </tbody>\n",
       "</table>\n",
       "<p>3600 rows × 2 columns</p>\n",
       "</div>"
      ],
      "text/plain": [
       "                 target                                    source\n",
       "0                 а̄ӈкв                                самка лося\n",
       "1             а̄ӈква̄ги  двоюродная сестра (по материнской линии)\n",
       "2               а̄ӈквал                           1. столб2. пень\n",
       "3       а̄ӈквата̄луӈкве                     взглянуть, посмотреть\n",
       "4          а̄ӈкватаӈкве                                 взглянуть\n",
       "...                 ...                                       ...\n",
       "3595            акв хум                              один мужчина\n",
       "3596  а̄ти, ат минэ̄гум                             нет, не пойду\n",
       "3597        атыр то̄рум                                ясное небо\n",
       "3598    а̄сюм иӈыт ёхты                       отец ещё не приехал\n",
       "3599       па̄кв паттыл                   сбивание кедровых шишек\n",
       "\n",
       "[3600 rows x 2 columns]"
      ]
     },
     "execution_count": 63,
     "metadata": {},
     "output_type": "execute_result"
    }
   ],
   "source": [
    "words_df"
   ]
  },
  {
   "cell_type": "code",
   "execution_count": 70,
   "id": "5c694e7a-6d94-44e0-9069-43e98345c892",
   "metadata": {},
   "outputs": [],
   "source": [
    "backup = words_df.copy()"
   ]
  },
  {
   "cell_type": "markdown",
   "id": "9b6d8033-d4d5-4ac2-b822-b92fc6b37629",
   "metadata": {},
   "source": [
    "## цифры"
   ]
  },
  {
   "cell_type": "code",
   "execution_count": 128,
   "id": "fbb149b6-9756-49de-a2b7-1c5eb973aa16",
   "metadata": {},
   "outputs": [
    {
     "data": {
      "text/html": [
       "<div>\n",
       "<style scoped>\n",
       "    .dataframe tbody tr th:only-of-type {\n",
       "        vertical-align: middle;\n",
       "    }\n",
       "\n",
       "    .dataframe tbody tr th {\n",
       "        vertical-align: top;\n",
       "    }\n",
       "\n",
       "    .dataframe thead th {\n",
       "        text-align: right;\n",
       "    }\n",
       "</style>\n",
       "<table border=\"1\" class=\"dataframe\">\n",
       "  <thead>\n",
       "    <tr style=\"text-align: right;\">\n",
       "      <th></th>\n",
       "      <th>target</th>\n",
       "      <th>source</th>\n",
       "    </tr>\n",
       "  </thead>\n",
       "  <tbody>\n",
       "    <tr>\n",
       "      <th>2</th>\n",
       "      <td>а̄ӈквал</td>\n",
       "      <td>1. столб2. пень</td>\n",
       "    </tr>\n",
       "    <tr>\n",
       "      <th>15</th>\n",
       "      <td>а̄ги</td>\n",
       "      <td>1. дочь2. девушка</td>\n",
       "    </tr>\n",
       "    <tr>\n",
       "      <th>16</th>\n",
       "      <td>а̄гирись</td>\n",
       "      <td>1. девочка2. дочка</td>\n",
       "    </tr>\n",
       "    <tr>\n",
       "      <th>122</th>\n",
       "      <td>ала</td>\n",
       "      <td>1. крыша2. крышка</td>\n",
       "    </tr>\n",
       "    <tr>\n",
       "      <th>129</th>\n",
       "      <td>алуӈкве</td>\n",
       "      <td>1. убить2. добыть (рыбу, зверя)</td>\n",
       "    </tr>\n",
       "    <tr>\n",
       "      <th>...</th>\n",
       "      <td>...</td>\n",
       "      <td>...</td>\n",
       "    </tr>\n",
       "    <tr>\n",
       "      <th>3567</th>\n",
       "      <td>яныг</td>\n",
       "      <td>1. большой2. великий3. старший4. главный</td>\n",
       "    </tr>\n",
       "    <tr>\n",
       "      <th>3578</th>\n",
       "      <td>яныт</td>\n",
       "      <td>1. величина2. возраст</td>\n",
       "    </tr>\n",
       "    <tr>\n",
       "      <th>3584</th>\n",
       "      <td>я̄рмалтаӈкве</td>\n",
       "      <td>1. задержать2. загородить</td>\n",
       "    </tr>\n",
       "    <tr>\n",
       "      <th>3586</th>\n",
       "      <td>я̄ртпи</td>\n",
       "      <td>1. преграда2. заграждение</td>\n",
       "    </tr>\n",
       "    <tr>\n",
       "      <th>3589</th>\n",
       "      <td>я̄с</td>\n",
       "      <td>1. колея2. русло</td>\n",
       "    </tr>\n",
       "  </tbody>\n",
       "</table>\n",
       "<p>246 rows × 2 columns</p>\n",
       "</div>"
      ],
      "text/plain": [
       "            target                                    source\n",
       "2          а̄ӈквал                           1. столб2. пень\n",
       "15            а̄ги                         1. дочь2. девушка\n",
       "16        а̄гирись                        1. девочка2. дочка\n",
       "122            ала                         1. крыша2. крышка\n",
       "129        алуӈкве           1. убить2. добыть (рыбу, зверя)\n",
       "...            ...                                       ...\n",
       "3567          яныг  1. большой2. великий3. старший4. главный\n",
       "3578          яныт                     1. величина2. возраст\n",
       "3584  я̄рмалтаӈкве                 1. задержать2. загородить\n",
       "3586        я̄ртпи                 1. преграда2. заграждение\n",
       "3589           я̄с                          1. колея2. русло\n",
       "\n",
       "[246 rows x 2 columns]"
      ]
     },
     "execution_count": 128,
     "metadata": {},
     "output_type": "execute_result"
    }
   ],
   "source": [
    "words_df[words_df.source.str.contains('1.')]"
   ]
  },
  {
   "cell_type": "code",
   "execution_count": 129,
   "id": "75b5000b-ca75-47ac-ac70-4021c99f6212",
   "metadata": {},
   "outputs": [],
   "source": [
    "def split_string(s):\n",
    "    pattern = r'\\d+\\.\\s*'\n",
    "    return re.split(pattern, s)[1:]"
   ]
  },
  {
   "cell_type": "code",
   "execution_count": 130,
   "id": "ed8879ca-c8b2-443d-9140-f5905fd50f40",
   "metadata": {},
   "outputs": [
    {
     "data": {
      "text/html": [
       "<div>\n",
       "<style scoped>\n",
       "    .dataframe tbody tr th:only-of-type {\n",
       "        vertical-align: middle;\n",
       "    }\n",
       "\n",
       "    .dataframe tbody tr th {\n",
       "        vertical-align: top;\n",
       "    }\n",
       "\n",
       "    .dataframe thead th {\n",
       "        text-align: right;\n",
       "    }\n",
       "</style>\n",
       "<table border=\"1\" class=\"dataframe\">\n",
       "  <thead>\n",
       "    <tr style=\"text-align: right;\">\n",
       "      <th></th>\n",
       "      <th>target</th>\n",
       "      <th>source</th>\n",
       "    </tr>\n",
       "  </thead>\n",
       "  <tbody>\n",
       "    <tr>\n",
       "      <th>1563</th>\n",
       "      <td>нуса</td>\n",
       "      <td>1. нужда, нищета, бедность2. бедный, нищий</td>\n",
       "    </tr>\n",
       "  </tbody>\n",
       "</table>\n",
       "</div>"
      ],
      "text/plain": [
       "     target                                      source\n",
       "1563   нуса  1. нужда, нищета, бедность2. бедный, нищий"
      ]
     },
     "execution_count": 130,
     "metadata": {},
     "output_type": "execute_result"
    }
   ],
   "source": [
    "words_df[words_df.target == 'нуса']"
   ]
  },
  {
   "cell_type": "code",
   "execution_count": 131,
   "id": "7383d7e0-0d59-46b3-997a-f3618f8046cf",
   "metadata": {},
   "outputs": [
    {
     "data": {
      "text/plain": [
       "2                              [столб, пень]\n",
       "15                           [дочь, девушка]\n",
       "16                          [девочка, дочка]\n",
       "122                          [крыша, крышка]\n",
       "129            [убить, добыть (рыбу, зверя)]\n",
       "                        ...                 \n",
       "3567    [большой, великий, старший, главный]\n",
       "3578                     [величина, возраст]\n",
       "3584                 [задержать, загородить]\n",
       "3586                 [преграда, заграждение]\n",
       "3589                          [колея, русло]\n",
       "Name: source, Length: 246, dtype: object"
      ]
     },
     "execution_count": 131,
     "metadata": {},
     "output_type": "execute_result"
    }
   ],
   "source": [
    "digits_lists = words_df[words_df.source.str.contains('1.')].source.apply(split_string)\n",
    "digits_lists"
   ]
  },
  {
   "cell_type": "code",
   "execution_count": 132,
   "id": "9e8f625c-65ea-473a-bbd3-a0426bf8d949",
   "metadata": {},
   "outputs": [
    {
     "data": {
      "text/plain": [
       "['нужда, нищета, бедность', 'бедный, нищий']"
      ]
     },
     "execution_count": 132,
     "metadata": {},
     "output_type": "execute_result"
    }
   ],
   "source": [
    "digits_lists.loc[1563]"
   ]
  },
  {
   "cell_type": "code",
   "execution_count": 133,
   "id": "43ea9822-8239-4b88-987c-42191add85aa",
   "metadata": {},
   "outputs": [
    {
     "data": {
      "text/html": [
       "<div>\n",
       "<style scoped>\n",
       "    .dataframe tbody tr th:only-of-type {\n",
       "        vertical-align: middle;\n",
       "    }\n",
       "\n",
       "    .dataframe tbody tr th {\n",
       "        vertical-align: top;\n",
       "    }\n",
       "\n",
       "    .dataframe thead th {\n",
       "        text-align: right;\n",
       "    }\n",
       "</style>\n",
       "<table border=\"1\" class=\"dataframe\">\n",
       "  <thead>\n",
       "    <tr style=\"text-align: right;\">\n",
       "      <th></th>\n",
       "      <th>target</th>\n",
       "      <th>source</th>\n",
       "    </tr>\n",
       "  </thead>\n",
       "  <tbody>\n",
       "    <tr>\n",
       "      <th>0</th>\n",
       "      <td>а̄ӈквал</td>\n",
       "      <td>столб</td>\n",
       "    </tr>\n",
       "    <tr>\n",
       "      <th>1</th>\n",
       "      <td>а̄ӈквал</td>\n",
       "      <td>пень</td>\n",
       "    </tr>\n",
       "    <tr>\n",
       "      <th>2</th>\n",
       "      <td>а̄ги</td>\n",
       "      <td>дочь</td>\n",
       "    </tr>\n",
       "    <tr>\n",
       "      <th>3</th>\n",
       "      <td>а̄ги</td>\n",
       "      <td>девушка</td>\n",
       "    </tr>\n",
       "    <tr>\n",
       "      <th>4</th>\n",
       "      <td>а̄гирись</td>\n",
       "      <td>девочка</td>\n",
       "    </tr>\n",
       "    <tr>\n",
       "      <th>...</th>\n",
       "      <td>...</td>\n",
       "      <td>...</td>\n",
       "    </tr>\n",
       "    <tr>\n",
       "      <th>533</th>\n",
       "      <td>я̄рмалтаӈкве</td>\n",
       "      <td>загородить</td>\n",
       "    </tr>\n",
       "    <tr>\n",
       "      <th>534</th>\n",
       "      <td>я̄ртпи</td>\n",
       "      <td>преграда</td>\n",
       "    </tr>\n",
       "    <tr>\n",
       "      <th>535</th>\n",
       "      <td>я̄ртпи</td>\n",
       "      <td>заграждение</td>\n",
       "    </tr>\n",
       "    <tr>\n",
       "      <th>536</th>\n",
       "      <td>я̄с</td>\n",
       "      <td>колея</td>\n",
       "    </tr>\n",
       "    <tr>\n",
       "      <th>537</th>\n",
       "      <td>я̄с</td>\n",
       "      <td>русло</td>\n",
       "    </tr>\n",
       "  </tbody>\n",
       "</table>\n",
       "<p>538 rows × 2 columns</p>\n",
       "</div>"
      ],
      "text/plain": [
       "           target       source\n",
       "0         а̄ӈквал        столб\n",
       "1         а̄ӈквал         пень\n",
       "2            а̄ги         дочь\n",
       "3            а̄ги      девушка\n",
       "4        а̄гирись      девочка\n",
       "..            ...          ...\n",
       "533  я̄рмалтаӈкве   загородить\n",
       "534        я̄ртпи     преграда\n",
       "535        я̄ртпи  заграждение\n",
       "536           я̄с        колея\n",
       "537           я̄с        русло\n",
       "\n",
       "[538 rows x 2 columns]"
      ]
     },
     "execution_count": 133,
     "metadata": {},
     "output_type": "execute_result"
    }
   ],
   "source": [
    "exploded_digits = pd.concat([\n",
    "    words_df[words_df.source.str.contains('1.')].target,\n",
    "    digits_lists\n",
    "], axis=1).explode('source', ignore_index=True)\n",
    "exploded_digits"
   ]
  },
  {
   "cell_type": "code",
   "execution_count": 134,
   "id": "0a16dd97-f8cf-4c4d-a7b4-8cbc255015e1",
   "metadata": {},
   "outputs": [
    {
     "data": {
      "text/html": [
       "<div>\n",
       "<style scoped>\n",
       "    .dataframe tbody tr th:only-of-type {\n",
       "        vertical-align: middle;\n",
       "    }\n",
       "\n",
       "    .dataframe tbody tr th {\n",
       "        vertical-align: top;\n",
       "    }\n",
       "\n",
       "    .dataframe thead th {\n",
       "        text-align: right;\n",
       "    }\n",
       "</style>\n",
       "<table border=\"1\" class=\"dataframe\">\n",
       "  <thead>\n",
       "    <tr style=\"text-align: right;\">\n",
       "      <th></th>\n",
       "      <th>target</th>\n",
       "      <th>source</th>\n",
       "    </tr>\n",
       "  </thead>\n",
       "  <tbody>\n",
       "    <tr>\n",
       "      <th>0</th>\n",
       "      <td>а̄ӈкв</td>\n",
       "      <td>самка лося</td>\n",
       "    </tr>\n",
       "    <tr>\n",
       "      <th>1</th>\n",
       "      <td>а̄ӈква̄ги</td>\n",
       "      <td>двоюродная сестра (по материнской линии)</td>\n",
       "    </tr>\n",
       "    <tr>\n",
       "      <th>2</th>\n",
       "      <td>а̄ӈквата̄луӈкве</td>\n",
       "      <td>взглянуть, посмотреть</td>\n",
       "    </tr>\n",
       "    <tr>\n",
       "      <th>3</th>\n",
       "      <td>а̄ӈкватаӈкве</td>\n",
       "      <td>взглянуть</td>\n",
       "    </tr>\n",
       "    <tr>\n",
       "      <th>4</th>\n",
       "      <td>а̄ӈквпыг</td>\n",
       "      <td>двоюродный брат (по материнской линии)</td>\n",
       "    </tr>\n",
       "    <tr>\n",
       "      <th>...</th>\n",
       "      <td>...</td>\n",
       "      <td>...</td>\n",
       "    </tr>\n",
       "    <tr>\n",
       "      <th>3887</th>\n",
       "      <td>я̄рмалтаӈкве</td>\n",
       "      <td>загородить</td>\n",
       "    </tr>\n",
       "    <tr>\n",
       "      <th>3888</th>\n",
       "      <td>я̄ртпи</td>\n",
       "      <td>преграда</td>\n",
       "    </tr>\n",
       "    <tr>\n",
       "      <th>3889</th>\n",
       "      <td>я̄ртпи</td>\n",
       "      <td>заграждение</td>\n",
       "    </tr>\n",
       "    <tr>\n",
       "      <th>3890</th>\n",
       "      <td>я̄с</td>\n",
       "      <td>колея</td>\n",
       "    </tr>\n",
       "    <tr>\n",
       "      <th>3891</th>\n",
       "      <td>я̄с</td>\n",
       "      <td>русло</td>\n",
       "    </tr>\n",
       "  </tbody>\n",
       "</table>\n",
       "<p>3892 rows × 2 columns</p>\n",
       "</div>"
      ],
      "text/plain": [
       "               target                                    source\n",
       "0               а̄ӈкв                                самка лося\n",
       "1           а̄ӈква̄ги  двоюродная сестра (по материнской линии)\n",
       "2     а̄ӈквата̄луӈкве                     взглянуть, посмотреть\n",
       "3        а̄ӈкватаӈкве                                 взглянуть\n",
       "4            а̄ӈквпыг    двоюродный брат (по материнской линии)\n",
       "...               ...                                       ...\n",
       "3887     я̄рмалтаӈкве                                загородить\n",
       "3888           я̄ртпи                                  преграда\n",
       "3889           я̄ртпи                               заграждение\n",
       "3890              я̄с                                     колея\n",
       "3891              я̄с                                     русло\n",
       "\n",
       "[3892 rows x 2 columns]"
      ]
     },
     "execution_count": 134,
     "metadata": {},
     "output_type": "execute_result"
    }
   ],
   "source": [
    "# удаляем старые слова из датасета\n",
    "words_df = words_df.drop(index=digits_lists.index)\n",
    "\n",
    "# добавляем новые exploded слова\n",
    "words_df = pd.concat([\n",
    "    words_df,\n",
    "    exploded_digits\n",
    "], axis=0, ignore_index=True)\n",
    "words_df"
   ]
  },
  {
   "cell_type": "code",
   "execution_count": 135,
   "id": "ce687aa5-5ae8-49cb-ba24-3a099f547f2f",
   "metadata": {},
   "outputs": [
    {
     "data": {
      "text/html": [
       "<div>\n",
       "<style scoped>\n",
       "    .dataframe tbody tr th:only-of-type {\n",
       "        vertical-align: middle;\n",
       "    }\n",
       "\n",
       "    .dataframe tbody tr th {\n",
       "        vertical-align: top;\n",
       "    }\n",
       "\n",
       "    .dataframe thead th {\n",
       "        text-align: right;\n",
       "    }\n",
       "</style>\n",
       "<table border=\"1\" class=\"dataframe\">\n",
       "  <thead>\n",
       "    <tr style=\"text-align: right;\">\n",
       "      <th></th>\n",
       "      <th>target</th>\n",
       "      <th>source</th>\n",
       "    </tr>\n",
       "  </thead>\n",
       "  <tbody>\n",
       "    <tr>\n",
       "      <th>1488</th>\n",
       "      <td>нусаг</td>\n",
       "      <td>бедно</td>\n",
       "    </tr>\n",
       "    <tr>\n",
       "      <th>1489</th>\n",
       "      <td>нусаг патуӈкве</td>\n",
       "      <td>обеднеть</td>\n",
       "    </tr>\n",
       "    <tr>\n",
       "      <th>1490</th>\n",
       "      <td>нусамаӈкве</td>\n",
       "      <td>нуждаться, бедствовать</td>\n",
       "    </tr>\n",
       "    <tr>\n",
       "      <th>3520</th>\n",
       "      <td>нуса</td>\n",
       "      <td>нужда, нищета, бедность</td>\n",
       "    </tr>\n",
       "    <tr>\n",
       "      <th>3521</th>\n",
       "      <td>нуса</td>\n",
       "      <td>бедный, нищий</td>\n",
       "    </tr>\n",
       "  </tbody>\n",
       "</table>\n",
       "</div>"
      ],
      "text/plain": [
       "              target                   source\n",
       "1488           нусаг                    бедно\n",
       "1489  нусаг патуӈкве                 обеднеть\n",
       "1490      нусамаӈкве   нуждаться, бедствовать\n",
       "3520            нуса  нужда, нищета, бедность\n",
       "3521            нуса            бедный, нищий"
      ]
     },
     "execution_count": 135,
     "metadata": {},
     "output_type": "execute_result"
    }
   ],
   "source": [
    "words_df[words_df.target.str.contains('нуса')]"
   ]
  },
  {
   "cell_type": "markdown",
   "id": "86d3a419-0600-4482-b88c-5469972f8b79",
   "metadata": {},
   "source": [
    "## скобки"
   ]
  },
  {
   "cell_type": "code",
   "execution_count": 138,
   "id": "3bad76b0-6bcf-4986-9069-c45378323f92",
   "metadata": {},
   "outputs": [
    {
     "data": {
      "text/html": [
       "<div>\n",
       "<style scoped>\n",
       "    .dataframe tbody tr th:only-of-type {\n",
       "        vertical-align: middle;\n",
       "    }\n",
       "\n",
       "    .dataframe tbody tr th {\n",
       "        vertical-align: top;\n",
       "    }\n",
       "\n",
       "    .dataframe thead th {\n",
       "        text-align: right;\n",
       "    }\n",
       "</style>\n",
       "<table border=\"1\" class=\"dataframe\">\n",
       "  <thead>\n",
       "    <tr style=\"text-align: right;\">\n",
       "      <th></th>\n",
       "      <th>target</th>\n",
       "      <th>source</th>\n",
       "    </tr>\n",
       "  </thead>\n",
       "  <tbody>\n",
       "    <tr>\n",
       "      <th>1</th>\n",
       "      <td>а̄ӈква̄ги</td>\n",
       "      <td>двоюродная сестра (по материнской линии)</td>\n",
       "    </tr>\n",
       "    <tr>\n",
       "      <th>4</th>\n",
       "      <td>а̄ӈквпыг</td>\n",
       "      <td>двоюродный брат (по материнской линии)</td>\n",
       "    </tr>\n",
       "    <tr>\n",
       "      <th>9</th>\n",
       "      <td>а̄ви со̄пла</td>\n",
       "      <td>косяк (двери)</td>\n",
       "    </tr>\n",
       "    <tr>\n",
       "      <th>10</th>\n",
       "      <td>а̄ви сӯнт</td>\n",
       "      <td>порог (двери)</td>\n",
       "    </tr>\n",
       "    <tr>\n",
       "      <th>11</th>\n",
       "      <td>а̄ви ха̄п</td>\n",
       "      <td>порог (двери)</td>\n",
       "    </tr>\n",
       "    <tr>\n",
       "      <th>...</th>\n",
       "      <td>...</td>\n",
       "      <td>...</td>\n",
       "    </tr>\n",
       "    <tr>\n",
       "      <th>3802</th>\n",
       "      <td>харыгла̄нтуӈкве</td>\n",
       "      <td>гаснуть (об огне)</td>\n",
       "    </tr>\n",
       "    <tr>\n",
       "      <th>3828</th>\n",
       "      <td>хольгуӈкве</td>\n",
       "      <td>плескаться (о волнах)</td>\n",
       "    </tr>\n",
       "    <tr>\n",
       "      <th>3869</th>\n",
       "      <td>э̄сь</td>\n",
       "      <td>двоюродная сестра (по отцовской линии, младше ...</td>\n",
       "    </tr>\n",
       "    <tr>\n",
       "      <th>3872</th>\n",
       "      <td>э̄тпос</td>\n",
       "      <td>месяц (луна)</td>\n",
       "    </tr>\n",
       "    <tr>\n",
       "      <th>3873</th>\n",
       "      <td>э̄тпос</td>\n",
       "      <td>месяц (календарный)</td>\n",
       "    </tr>\n",
       "  </tbody>\n",
       "</table>\n",
       "<p>572 rows × 2 columns</p>\n",
       "</div>"
      ],
      "text/plain": [
       "               target                                             source\n",
       "1           а̄ӈква̄ги           двоюродная сестра (по материнской линии)\n",
       "4            а̄ӈквпыг             двоюродный брат (по материнской линии)\n",
       "9         а̄ви со̄пла                                      косяк (двери)\n",
       "10          а̄ви сӯнт                                      порог (двери)\n",
       "11          а̄ви ха̄п                                      порог (двери)\n",
       "...               ...                                                ...\n",
       "3802  харыгла̄нтуӈкве                                  гаснуть (об огне)\n",
       "3828       хольгуӈкве                              плескаться (о волнах)\n",
       "3869             э̄сь  двоюродная сестра (по отцовской линии, младше ...\n",
       "3872           э̄тпос                                       месяц (луна)\n",
       "3873           э̄тпос                                месяц (календарный)\n",
       "\n",
       "[572 rows x 2 columns]"
      ]
     },
     "execution_count": 138,
     "metadata": {},
     "output_type": "execute_result"
    }
   ],
   "source": [
    "words_df[words_df.source.str.contains('\\\\(')]"
   ]
  },
  {
   "cell_type": "code",
   "execution_count": 143,
   "id": "9186abc9-59b2-4caa-9ea9-034d1c12ec99",
   "metadata": {},
   "outputs": [],
   "source": [
    "ind2check = words_df[words_df.source.str.contains('\\\\(')].index.copy()"
   ]
  },
  {
   "cell_type": "code",
   "execution_count": 140,
   "id": "b6d9c54e-1227-4afd-9da7-29f59c022c63",
   "metadata": {},
   "outputs": [],
   "source": [
    "def remove_parentheses(s):\n",
    "    return re.sub(r'\\s*\\([^)]*\\)', '', s)"
   ]
  },
  {
   "cell_type": "code",
   "execution_count": 144,
   "id": "062c6e08-88be-4768-9013-5e6cdd6789c7",
   "metadata": {},
   "outputs": [],
   "source": [
    "words_df.loc[words_df.source.str.contains('\\\\('), 'source'] = words_df[words_df.source.str.contains('\\\\(')].source.apply(remove_parentheses).tolist()"
   ]
  },
  {
   "cell_type": "code",
   "execution_count": 145,
   "id": "1ac50808-0238-486b-bbdc-771c663a8d52",
   "metadata": {},
   "outputs": [
    {
     "data": {
      "text/html": [
       "<div>\n",
       "<style scoped>\n",
       "    .dataframe tbody tr th:only-of-type {\n",
       "        vertical-align: middle;\n",
       "    }\n",
       "\n",
       "    .dataframe tbody tr th {\n",
       "        vertical-align: top;\n",
       "    }\n",
       "\n",
       "    .dataframe thead th {\n",
       "        text-align: right;\n",
       "    }\n",
       "</style>\n",
       "<table border=\"1\" class=\"dataframe\">\n",
       "  <thead>\n",
       "    <tr style=\"text-align: right;\">\n",
       "      <th></th>\n",
       "      <th>target</th>\n",
       "      <th>source</th>\n",
       "    </tr>\n",
       "  </thead>\n",
       "  <tbody>\n",
       "    <tr>\n",
       "      <th>1</th>\n",
       "      <td>а̄ӈква̄ги</td>\n",
       "      <td>двоюродная сестра</td>\n",
       "    </tr>\n",
       "    <tr>\n",
       "      <th>4</th>\n",
       "      <td>а̄ӈквпыг</td>\n",
       "      <td>двоюродный брат</td>\n",
       "    </tr>\n",
       "    <tr>\n",
       "      <th>9</th>\n",
       "      <td>а̄ви со̄пла</td>\n",
       "      <td>косяк</td>\n",
       "    </tr>\n",
       "    <tr>\n",
       "      <th>10</th>\n",
       "      <td>а̄ви сӯнт</td>\n",
       "      <td>порог</td>\n",
       "    </tr>\n",
       "    <tr>\n",
       "      <th>11</th>\n",
       "      <td>а̄ви ха̄п</td>\n",
       "      <td>порог</td>\n",
       "    </tr>\n",
       "    <tr>\n",
       "      <th>...</th>\n",
       "      <td>...</td>\n",
       "      <td>...</td>\n",
       "    </tr>\n",
       "    <tr>\n",
       "      <th>3802</th>\n",
       "      <td>харыгла̄нтуӈкве</td>\n",
       "      <td>гаснуть</td>\n",
       "    </tr>\n",
       "    <tr>\n",
       "      <th>3828</th>\n",
       "      <td>хольгуӈкве</td>\n",
       "      <td>плескаться</td>\n",
       "    </tr>\n",
       "    <tr>\n",
       "      <th>3869</th>\n",
       "      <td>э̄сь</td>\n",
       "      <td>двоюродная сестра</td>\n",
       "    </tr>\n",
       "    <tr>\n",
       "      <th>3872</th>\n",
       "      <td>э̄тпос</td>\n",
       "      <td>месяц</td>\n",
       "    </tr>\n",
       "    <tr>\n",
       "      <th>3873</th>\n",
       "      <td>э̄тпос</td>\n",
       "      <td>месяц</td>\n",
       "    </tr>\n",
       "  </tbody>\n",
       "</table>\n",
       "<p>572 rows × 2 columns</p>\n",
       "</div>"
      ],
      "text/plain": [
       "               target             source\n",
       "1           а̄ӈква̄ги  двоюродная сестра\n",
       "4            а̄ӈквпыг    двоюродный брат\n",
       "9         а̄ви со̄пла              косяк\n",
       "10          а̄ви сӯнт              порог\n",
       "11          а̄ви ха̄п              порог\n",
       "...               ...                ...\n",
       "3802  харыгла̄нтуӈкве            гаснуть\n",
       "3828       хольгуӈкве         плескаться\n",
       "3869             э̄сь  двоюродная сестра\n",
       "3872           э̄тпос              месяц\n",
       "3873           э̄тпос              месяц\n",
       "\n",
       "[572 rows x 2 columns]"
      ]
     },
     "execution_count": 145,
     "metadata": {},
     "output_type": "execute_result"
    }
   ],
   "source": [
    "words_df.loc[ind2check]"
   ]
  },
  {
   "cell_type": "markdown",
   "id": "28b5cd4e-086c-46c4-a240-71d44314adbe",
   "metadata": {},
   "source": [
    "## запятые"
   ]
  },
  {
   "cell_type": "code",
   "execution_count": 147,
   "id": "6a091c6a-90bb-4ad0-987d-acf03e453314",
   "metadata": {},
   "outputs": [
    {
     "data": {
      "text/html": [
       "<div>\n",
       "<style scoped>\n",
       "    .dataframe tbody tr th:only-of-type {\n",
       "        vertical-align: middle;\n",
       "    }\n",
       "\n",
       "    .dataframe tbody tr th {\n",
       "        vertical-align: top;\n",
       "    }\n",
       "\n",
       "    .dataframe thead th {\n",
       "        text-align: right;\n",
       "    }\n",
       "</style>\n",
       "<table border=\"1\" class=\"dataframe\">\n",
       "  <thead>\n",
       "    <tr style=\"text-align: right;\">\n",
       "      <th></th>\n",
       "      <th>target</th>\n",
       "      <th>source</th>\n",
       "    </tr>\n",
       "  </thead>\n",
       "  <tbody>\n",
       "    <tr>\n",
       "      <th>2</th>\n",
       "      <td>а̄ӈквата̄луӈкве</td>\n",
       "      <td>взглянуть, посмотреть</td>\n",
       "    </tr>\n",
       "    <tr>\n",
       "      <th>6</th>\n",
       "      <td>а̄ӈхвуӈкве</td>\n",
       "      <td>раздеть, снять одежду</td>\n",
       "    </tr>\n",
       "    <tr>\n",
       "      <th>7</th>\n",
       "      <td>а̄ӈхвыглаӈкве</td>\n",
       "      <td>раздевать, снимать одежду</td>\n",
       "    </tr>\n",
       "    <tr>\n",
       "      <th>12</th>\n",
       "      <td>а̄врах</td>\n",
       "      <td>обрыв, крутой берег</td>\n",
       "    </tr>\n",
       "    <tr>\n",
       "      <th>16</th>\n",
       "      <td>а̄гмхарыӈ</td>\n",
       "      <td>хилый, чахлый</td>\n",
       "    </tr>\n",
       "    <tr>\n",
       "      <th>...</th>\n",
       "      <td>...</td>\n",
       "      <td>...</td>\n",
       "    </tr>\n",
       "    <tr>\n",
       "      <th>3817</th>\n",
       "      <td>хо̄игла̄луӈкве</td>\n",
       "      <td>заезжать, заходить</td>\n",
       "    </tr>\n",
       "    <tr>\n",
       "      <th>3818</th>\n",
       "      <td>хо̄иглаӈкве</td>\n",
       "      <td>удариться, стукнуться</td>\n",
       "    </tr>\n",
       "    <tr>\n",
       "      <th>3819</th>\n",
       "      <td>хо̄иглаӈкве</td>\n",
       "      <td>заехать, зайти</td>\n",
       "    </tr>\n",
       "    <tr>\n",
       "      <th>3866</th>\n",
       "      <td>э̄ссамтаӈкве</td>\n",
       "      <td>стыдиться, смущаться</td>\n",
       "    </tr>\n",
       "    <tr>\n",
       "      <th>3867</th>\n",
       "      <td>э̄ссамтаӈкве</td>\n",
       "      <td>стыдить, смущать</td>\n",
       "    </tr>\n",
       "  </tbody>\n",
       "</table>\n",
       "<p>788 rows × 2 columns</p>\n",
       "</div>"
      ],
      "text/plain": [
       "               target                     source\n",
       "2     а̄ӈквата̄луӈкве      взглянуть, посмотреть\n",
       "6          а̄ӈхвуӈкве      раздеть, снять одежду\n",
       "7       а̄ӈхвыглаӈкве  раздевать, снимать одежду\n",
       "12             а̄врах        обрыв, крутой берег\n",
       "16          а̄гмхарыӈ              хилый, чахлый\n",
       "...               ...                        ...\n",
       "3817   хо̄игла̄луӈкве         заезжать, заходить\n",
       "3818      хо̄иглаӈкве      удариться, стукнуться\n",
       "3819      хо̄иглаӈкве             заехать, зайти\n",
       "3866     э̄ссамтаӈкве       стыдиться, смущаться\n",
       "3867     э̄ссамтаӈкве           стыдить, смущать\n",
       "\n",
       "[788 rows x 2 columns]"
      ]
     },
     "execution_count": 147,
     "metadata": {},
     "output_type": "execute_result"
    }
   ],
   "source": [
    "words_df[words_df.source.str.contains(',')]"
   ]
  },
  {
   "cell_type": "code",
   "execution_count": 148,
   "id": "3cbdeaa8-9ce9-42e8-88b3-d4f580b74167",
   "metadata": {},
   "outputs": [
    {
     "data": {
      "text/plain": [
       "2           [взглянуть, посмотреть]\n",
       "6           [раздеть, снять одежду]\n",
       "7       [раздевать, снимать одежду]\n",
       "12            [обрыв, крутой берег]\n",
       "16                  [хилый, чахлый]\n",
       "                   ...             \n",
       "3816         [ударяться, стукаться]\n",
       "3817           [заезжать, заходить]\n",
       "3818        [удариться, стукнуться]\n",
       "3819               [заехать, зайти]\n",
       "3866         [стыдиться, смущаться]\n",
       "Name: source, Length: 787, dtype: object"
      ]
     },
     "execution_count": 148,
     "metadata": {},
     "output_type": "execute_result"
    }
   ],
   "source": [
    "trans_lists = words_df[words_df.source.str.contains(',')].source.apply(lambda x: [el.strip() for el in x.split(',')]).iloc[:-1]#.explode()\n",
    "trans_lists"
   ]
  },
  {
   "cell_type": "code",
   "execution_count": 149,
   "id": "f01b5c82-cd79-47ce-aea0-d679ad3b8f34",
   "metadata": {},
   "outputs": [
    {
     "data": {
      "text/html": [
       "<div>\n",
       "<style scoped>\n",
       "    .dataframe tbody tr th:only-of-type {\n",
       "        vertical-align: middle;\n",
       "    }\n",
       "\n",
       "    .dataframe tbody tr th {\n",
       "        vertical-align: top;\n",
       "    }\n",
       "\n",
       "    .dataframe thead th {\n",
       "        text-align: right;\n",
       "    }\n",
       "</style>\n",
       "<table border=\"1\" class=\"dataframe\">\n",
       "  <thead>\n",
       "    <tr style=\"text-align: right;\">\n",
       "      <th></th>\n",
       "      <th>target</th>\n",
       "      <th>source</th>\n",
       "    </tr>\n",
       "  </thead>\n",
       "  <tbody>\n",
       "    <tr>\n",
       "      <th>0</th>\n",
       "      <td>а̄ӈквата̄луӈкве</td>\n",
       "      <td>взглянуть</td>\n",
       "    </tr>\n",
       "    <tr>\n",
       "      <th>1</th>\n",
       "      <td>а̄ӈквата̄луӈкве</td>\n",
       "      <td>посмотреть</td>\n",
       "    </tr>\n",
       "    <tr>\n",
       "      <th>2</th>\n",
       "      <td>а̄ӈхвуӈкве</td>\n",
       "      <td>раздеть</td>\n",
       "    </tr>\n",
       "    <tr>\n",
       "      <th>3</th>\n",
       "      <td>а̄ӈхвуӈкве</td>\n",
       "      <td>снять одежду</td>\n",
       "    </tr>\n",
       "    <tr>\n",
       "      <th>4</th>\n",
       "      <td>а̄ӈхвыглаӈкве</td>\n",
       "      <td>раздевать</td>\n",
       "    </tr>\n",
       "    <tr>\n",
       "      <th>...</th>\n",
       "      <td>...</td>\n",
       "      <td>...</td>\n",
       "    </tr>\n",
       "    <tr>\n",
       "      <th>1610</th>\n",
       "      <td>хо̄иглаӈкве</td>\n",
       "      <td>стукнуться</td>\n",
       "    </tr>\n",
       "    <tr>\n",
       "      <th>1611</th>\n",
       "      <td>хо̄иглаӈкве</td>\n",
       "      <td>заехать</td>\n",
       "    </tr>\n",
       "    <tr>\n",
       "      <th>1612</th>\n",
       "      <td>хо̄иглаӈкве</td>\n",
       "      <td>зайти</td>\n",
       "    </tr>\n",
       "    <tr>\n",
       "      <th>1613</th>\n",
       "      <td>э̄ссамтаӈкве</td>\n",
       "      <td>стыдиться</td>\n",
       "    </tr>\n",
       "    <tr>\n",
       "      <th>1614</th>\n",
       "      <td>э̄ссамтаӈкве</td>\n",
       "      <td>смущаться</td>\n",
       "    </tr>\n",
       "  </tbody>\n",
       "</table>\n",
       "<p>1615 rows × 2 columns</p>\n",
       "</div>"
      ],
      "text/plain": [
       "               target        source\n",
       "0     а̄ӈквата̄луӈкве     взглянуть\n",
       "1     а̄ӈквата̄луӈкве    посмотреть\n",
       "2          а̄ӈхвуӈкве       раздеть\n",
       "3          а̄ӈхвуӈкве  снять одежду\n",
       "4       а̄ӈхвыглаӈкве     раздевать\n",
       "...               ...           ...\n",
       "1610      хо̄иглаӈкве    стукнуться\n",
       "1611      хо̄иглаӈкве       заехать\n",
       "1612      хо̄иглаӈкве         зайти\n",
       "1613     э̄ссамтаӈкве     стыдиться\n",
       "1614     э̄ссамтаӈкве     смущаться\n",
       "\n",
       "[1615 rows x 2 columns]"
      ]
     },
     "execution_count": 149,
     "metadata": {},
     "output_type": "execute_result"
    }
   ],
   "source": [
    "exploded_commas = pd.concat([\n",
    "    words_df.loc[trans_lists.index].target,\n",
    "    trans_lists\n",
    "], axis=1).explode('source', ignore_index=True).copy()\n",
    "exploded_commas"
   ]
  },
  {
   "cell_type": "code",
   "execution_count": 150,
   "id": "4dda628b-ee92-4816-a3e3-3308a31f6ffa",
   "metadata": {},
   "outputs": [
    {
     "data": {
      "text/html": [
       "<div>\n",
       "<style scoped>\n",
       "    .dataframe tbody tr th:only-of-type {\n",
       "        vertical-align: middle;\n",
       "    }\n",
       "\n",
       "    .dataframe tbody tr th {\n",
       "        vertical-align: top;\n",
       "    }\n",
       "\n",
       "    .dataframe thead th {\n",
       "        text-align: right;\n",
       "    }\n",
       "</style>\n",
       "<table border=\"1\" class=\"dataframe\">\n",
       "  <thead>\n",
       "    <tr style=\"text-align: right;\">\n",
       "      <th></th>\n",
       "      <th>target</th>\n",
       "      <th>source</th>\n",
       "    </tr>\n",
       "  </thead>\n",
       "  <tbody>\n",
       "    <tr>\n",
       "      <th>0</th>\n",
       "      <td>а̄ӈкв</td>\n",
       "      <td>самка лося</td>\n",
       "    </tr>\n",
       "    <tr>\n",
       "      <th>1</th>\n",
       "      <td>а̄ӈква̄ги</td>\n",
       "      <td>двоюродная сестра</td>\n",
       "    </tr>\n",
       "    <tr>\n",
       "      <th>2</th>\n",
       "      <td>а̄ӈкватаӈкве</td>\n",
       "      <td>взглянуть</td>\n",
       "    </tr>\n",
       "    <tr>\n",
       "      <th>3</th>\n",
       "      <td>а̄ӈквпыг</td>\n",
       "      <td>двоюродный брат</td>\n",
       "    </tr>\n",
       "    <tr>\n",
       "      <th>4</th>\n",
       "      <td>а̄ӈха</td>\n",
       "      <td>куропатка</td>\n",
       "    </tr>\n",
       "    <tr>\n",
       "      <th>...</th>\n",
       "      <td>...</td>\n",
       "      <td>...</td>\n",
       "    </tr>\n",
       "    <tr>\n",
       "      <th>4715</th>\n",
       "      <td>хо̄иглаӈкве</td>\n",
       "      <td>стукнуться</td>\n",
       "    </tr>\n",
       "    <tr>\n",
       "      <th>4716</th>\n",
       "      <td>хо̄иглаӈкве</td>\n",
       "      <td>заехать</td>\n",
       "    </tr>\n",
       "    <tr>\n",
       "      <th>4717</th>\n",
       "      <td>хо̄иглаӈкве</td>\n",
       "      <td>зайти</td>\n",
       "    </tr>\n",
       "    <tr>\n",
       "      <th>4718</th>\n",
       "      <td>э̄ссамтаӈкве</td>\n",
       "      <td>стыдиться</td>\n",
       "    </tr>\n",
       "    <tr>\n",
       "      <th>4719</th>\n",
       "      <td>э̄ссамтаӈкве</td>\n",
       "      <td>смущаться</td>\n",
       "    </tr>\n",
       "  </tbody>\n",
       "</table>\n",
       "<p>4720 rows × 2 columns</p>\n",
       "</div>"
      ],
      "text/plain": [
       "            target             source\n",
       "0            а̄ӈкв         самка лося\n",
       "1        а̄ӈква̄ги  двоюродная сестра\n",
       "2     а̄ӈкватаӈкве          взглянуть\n",
       "3         а̄ӈквпыг    двоюродный брат\n",
       "4            а̄ӈха          куропатка\n",
       "...            ...                ...\n",
       "4715   хо̄иглаӈкве         стукнуться\n",
       "4716   хо̄иглаӈкве            заехать\n",
       "4717   хо̄иглаӈкве              зайти\n",
       "4718  э̄ссамтаӈкве          стыдиться\n",
       "4719  э̄ссамтаӈкве          смущаться\n",
       "\n",
       "[4720 rows x 2 columns]"
      ]
     },
     "execution_count": 150,
     "metadata": {},
     "output_type": "execute_result"
    }
   ],
   "source": [
    "# удаляем старые слова из датасета\n",
    "words_df = words_df.drop(index=trans_lists.index)\n",
    "\n",
    "# добавляем новые exploded слова\n",
    "words_df = pd.concat([\n",
    "    words_df,\n",
    "    exploded_commas\n",
    "], axis=0, ignore_index=True)\n",
    "words_df"
   ]
  },
  {
   "cell_type": "code",
   "execution_count": 151,
   "id": "79c07ff7-65e1-43fb-9bca-020adf215f67",
   "metadata": {},
   "outputs": [
    {
     "data": {
      "text/html": [
       "<div>\n",
       "<style scoped>\n",
       "    .dataframe tbody tr th:only-of-type {\n",
       "        vertical-align: middle;\n",
       "    }\n",
       "\n",
       "    .dataframe tbody tr th {\n",
       "        vertical-align: top;\n",
       "    }\n",
       "\n",
       "    .dataframe thead th {\n",
       "        text-align: right;\n",
       "    }\n",
       "</style>\n",
       "<table border=\"1\" class=\"dataframe\">\n",
       "  <thead>\n",
       "    <tr style=\"text-align: right;\">\n",
       "      <th></th>\n",
       "      <th>target</th>\n",
       "      <th>source</th>\n",
       "    </tr>\n",
       "  </thead>\n",
       "  <tbody>\n",
       "    <tr>\n",
       "      <th>1153</th>\n",
       "      <td>нусаг</td>\n",
       "      <td>бедно</td>\n",
       "    </tr>\n",
       "    <tr>\n",
       "      <th>1154</th>\n",
       "      <td>нусаг патуӈкве</td>\n",
       "      <td>обеднеть</td>\n",
       "    </tr>\n",
       "    <tr>\n",
       "      <th>3796</th>\n",
       "      <td>нусамаӈкве</td>\n",
       "      <td>нуждаться</td>\n",
       "    </tr>\n",
       "    <tr>\n",
       "      <th>3797</th>\n",
       "      <td>нусамаӈкве</td>\n",
       "      <td>бедствовать</td>\n",
       "    </tr>\n",
       "    <tr>\n",
       "      <th>4687</th>\n",
       "      <td>нуса</td>\n",
       "      <td>нужда</td>\n",
       "    </tr>\n",
       "    <tr>\n",
       "      <th>4688</th>\n",
       "      <td>нуса</td>\n",
       "      <td>нищета</td>\n",
       "    </tr>\n",
       "    <tr>\n",
       "      <th>4689</th>\n",
       "      <td>нуса</td>\n",
       "      <td>бедность</td>\n",
       "    </tr>\n",
       "    <tr>\n",
       "      <th>4690</th>\n",
       "      <td>нуса</td>\n",
       "      <td>бедный</td>\n",
       "    </tr>\n",
       "    <tr>\n",
       "      <th>4691</th>\n",
       "      <td>нуса</td>\n",
       "      <td>нищий</td>\n",
       "    </tr>\n",
       "  </tbody>\n",
       "</table>\n",
       "</div>"
      ],
      "text/plain": [
       "              target       source\n",
       "1153           нусаг        бедно\n",
       "1154  нусаг патуӈкве     обеднеть\n",
       "3796      нусамаӈкве    нуждаться\n",
       "3797      нусамаӈкве  бедствовать\n",
       "4687            нуса        нужда\n",
       "4688            нуса       нищета\n",
       "4689            нуса     бедность\n",
       "4690            нуса       бедный\n",
       "4691            нуса        нищий"
      ]
     },
     "execution_count": 151,
     "metadata": {},
     "output_type": "execute_result"
    }
   ],
   "source": [
    "words_df[words_df.target.str.contains('нуса')]"
   ]
  },
  {
   "cell_type": "code",
   "execution_count": 159,
   "id": "add3a387-baee-4baa-a8b6-2c5e37a360fc",
   "metadata": {},
   "outputs": [
    {
     "data": {
      "text/html": [
       "<div>\n",
       "<style scoped>\n",
       "    .dataframe tbody tr th:only-of-type {\n",
       "        vertical-align: middle;\n",
       "    }\n",
       "\n",
       "    .dataframe tbody tr th {\n",
       "        vertical-align: top;\n",
       "    }\n",
       "\n",
       "    .dataframe thead th {\n",
       "        text-align: right;\n",
       "    }\n",
       "</style>\n",
       "<table border=\"1\" class=\"dataframe\">\n",
       "  <thead>\n",
       "    <tr style=\"text-align: right;\">\n",
       "      <th></th>\n",
       "      <th>target</th>\n",
       "      <th>source</th>\n",
       "    </tr>\n",
       "  </thead>\n",
       "  <tbody>\n",
       "    <tr>\n",
       "      <th>469</th>\n",
       "      <td>ётлопся</td>\n",
       "      <td>скребок для выделки камуса</td>\n",
       "    </tr>\n",
       "    <tr>\n",
       "      <th>485</th>\n",
       "      <td>итуӈкве</td>\n",
       "      <td>перепрыгивать с ветки на ветку</td>\n",
       "    </tr>\n",
       "    <tr>\n",
       "      <th>850</th>\n",
       "      <td>лэ̄ӈкв</td>\n",
       "      <td>детское меховое одеяльце</td>\n",
       "    </tr>\n",
       "    <tr>\n",
       "      <th>970</th>\n",
       "      <td>мислы</td>\n",
       "      <td>смешанный кедровый лес</td>\n",
       "    </tr>\n",
       "    <tr>\n",
       "      <th>1028</th>\n",
       "      <td>на̄лкуӈкве</td>\n",
       "      <td>очистить ствол от ветвей</td>\n",
       "    </tr>\n",
       "    <tr>\n",
       "      <th>1034</th>\n",
       "      <td>на̄лув-туясаӈкве</td>\n",
       "      <td>толкнуть по направлению к водоёму</td>\n",
       "    </tr>\n",
       "    <tr>\n",
       "      <th>1097</th>\n",
       "      <td>нильсуп</td>\n",
       "      <td>скребок для чистки рыбы</td>\n",
       "    </tr>\n",
       "    <tr>\n",
       "      <th>1309</th>\n",
       "      <td>о̄хтырлаӈкве</td>\n",
       "      <td>валяться в беспорядке</td>\n",
       "    </tr>\n",
       "    <tr>\n",
       "      <th>1310</th>\n",
       "      <td>о̄хтыртаӈкве</td>\n",
       "      <td>разбросать в беспорядке</td>\n",
       "    </tr>\n",
       "    <tr>\n",
       "      <th>1430</th>\n",
       "      <td>пе̄р</td>\n",
       "      <td>продольный брус над краем нар</td>\n",
       "    </tr>\n",
       "    <tr>\n",
       "      <th>1691</th>\n",
       "      <td>са̄ӈквылтап</td>\n",
       "      <td>струнный музыкальный инструмент</td>\n",
       "    </tr>\n",
       "    <tr>\n",
       "      <th>1692</th>\n",
       "      <td>са̄ӈквылтаӈкве</td>\n",
       "      <td>играть на струнном музыкальном инструменте</td>\n",
       "    </tr>\n",
       "    <tr>\n",
       "      <th>1887</th>\n",
       "      <td>сурты</td>\n",
       "      <td>годовалый телёнок оленя</td>\n",
       "    </tr>\n",
       "    <tr>\n",
       "      <th>1978</th>\n",
       "      <td>тӯлыглахтуӈкве</td>\n",
       "      <td>выступать с представлениями на медвежьих игрищах</td>\n",
       "    </tr>\n",
       "    <tr>\n",
       "      <th>1981</th>\n",
       "      <td>то̄cня̄ра</td>\n",
       "      <td>зимняя охотничья обувь</td>\n",
       "    </tr>\n",
       "    <tr>\n",
       "      <th>2094</th>\n",
       "      <td>тучаӈ</td>\n",
       "      <td>мешочек со швейными принадлежностями</td>\n",
       "    </tr>\n",
       "    <tr>\n",
       "      <th>2096</th>\n",
       "      <td>тыг</td>\n",
       "      <td>глаг.прист.со значением сюда</td>\n",
       "    </tr>\n",
       "    <tr>\n",
       "      <th>2164</th>\n",
       "      <td>ӯн</td>\n",
       "      <td>столб рыболовного запора</td>\n",
       "    </tr>\n",
       "    <tr>\n",
       "      <th>2575</th>\n",
       "      <td>я̄нтылтаӈкве</td>\n",
       "      <td>дать возможность сгуститься</td>\n",
       "    </tr>\n",
       "    <tr>\n",
       "      <th>2597</th>\n",
       "      <td>па̄кв паттыл</td>\n",
       "      <td>сбивание кедровых шишек</td>\n",
       "    </tr>\n",
       "    <tr>\n",
       "      <th>3179</th>\n",
       "      <td>аньмус</td>\n",
       "      <td>до настоящего времени</td>\n",
       "    </tr>\n",
       "    <tr>\n",
       "      <th>3907</th>\n",
       "      <td>па̄г-хо̄юӈкве</td>\n",
       "      <td>остановиться у берега</td>\n",
       "    </tr>\n",
       "    <tr>\n",
       "      <th>4315</th>\n",
       "      <td>тумран</td>\n",
       "      <td>музыкальный инструмент</td>\n",
       "    </tr>\n",
       "    <tr>\n",
       "      <th>4387</th>\n",
       "      <td>ха̄йттуӈкве</td>\n",
       "      <td>уносить что-либо бегом</td>\n",
       "    </tr>\n",
       "  </tbody>\n",
       "</table>\n",
       "</div>"
      ],
      "text/plain": [
       "                target                                            source\n",
       "469            ётлопся                        скребок для выделки камуса\n",
       "485            итуӈкве                    перепрыгивать с ветки на ветку\n",
       "850             лэ̄ӈкв                          детское меховое одеяльце\n",
       "970              мислы                            смешанный кедровый лес\n",
       "1028        на̄лкуӈкве                          очистить ствол от ветвей\n",
       "1034  на̄лув-туясаӈкве                 толкнуть по направлению к водоёму\n",
       "1097           нильсуп                           скребок для чистки рыбы\n",
       "1309      о̄хтырлаӈкве                             валяться в беспорядке\n",
       "1310      о̄хтыртаӈкве                           разбросать в беспорядке\n",
       "1430              пе̄р                     продольный брус над краем нар\n",
       "1691       са̄ӈквылтап                   струнный музыкальный инструмент\n",
       "1692    са̄ӈквылтаӈкве        играть на струнном музыкальном инструменте\n",
       "1887             сурты                           годовалый телёнок оленя\n",
       "1978    тӯлыглахтуӈкве  выступать с представлениями на медвежьих игрищах\n",
       "1981         то̄cня̄ра                            зимняя охотничья обувь\n",
       "2094             тучаӈ              мешочек со швейными принадлежностями\n",
       "2096               тыг                      глаг.прист.со значением сюда\n",
       "2164                ӯн                          столб рыболовного запора\n",
       "2575      я̄нтылтаӈкве                       дать возможность сгуститься\n",
       "2597      па̄кв паттыл                           сбивание кедровых шишек\n",
       "3179            аньмус                             до настоящего времени\n",
       "3907     па̄г-хо̄юӈкве                             остановиться у берега\n",
       "4315            тумран                            музыкальный инструмент\n",
       "4387       ха̄йттуӈкве                            уносить что-либо бегом"
      ]
     },
     "execution_count": 159,
     "metadata": {},
     "output_type": "execute_result"
    }
   ],
   "source": [
    "words_df[words_df.source.apply(lambda x: len(x)) > 20]"
   ]
  },
  {
   "cell_type": "code",
   "execution_count": 160,
   "id": "8aa51d56-e78c-4bdb-8c6f-9840c85f7ac5",
   "metadata": {},
   "outputs": [],
   "source": [
    "words_df.target = words_df.target.apply(lambda x: x.strip())\n",
    "words_df.source = words_df.source.apply(lambda x: x.strip())"
   ]
  },
  {
   "cell_type": "code",
   "execution_count": 161,
   "id": "f0ab0ec4-0e37-4885-be38-2f9165403065",
   "metadata": {},
   "outputs": [
    {
     "data": {
      "text/html": [
       "<div>\n",
       "<style scoped>\n",
       "    .dataframe tbody tr th:only-of-type {\n",
       "        vertical-align: middle;\n",
       "    }\n",
       "\n",
       "    .dataframe tbody tr th {\n",
       "        vertical-align: top;\n",
       "    }\n",
       "\n",
       "    .dataframe thead th {\n",
       "        text-align: right;\n",
       "    }\n",
       "</style>\n",
       "<table border=\"1\" class=\"dataframe\">\n",
       "  <thead>\n",
       "    <tr style=\"text-align: right;\">\n",
       "      <th></th>\n",
       "      <th>target</th>\n",
       "      <th>source</th>\n",
       "    </tr>\n",
       "  </thead>\n",
       "  <tbody>\n",
       "    <tr>\n",
       "      <th>0</th>\n",
       "      <td>а̄ӈкв</td>\n",
       "      <td>самка лося</td>\n",
       "    </tr>\n",
       "    <tr>\n",
       "      <th>1</th>\n",
       "      <td>а̄ӈква̄ги</td>\n",
       "      <td>двоюродная сестра</td>\n",
       "    </tr>\n",
       "    <tr>\n",
       "      <th>2</th>\n",
       "      <td>а̄ӈкватаӈкве</td>\n",
       "      <td>взглянуть</td>\n",
       "    </tr>\n",
       "    <tr>\n",
       "      <th>3</th>\n",
       "      <td>а̄ӈквпыг</td>\n",
       "      <td>двоюродный брат</td>\n",
       "    </tr>\n",
       "    <tr>\n",
       "      <th>4</th>\n",
       "      <td>а̄ӈха</td>\n",
       "      <td>куропатка</td>\n",
       "    </tr>\n",
       "    <tr>\n",
       "      <th>...</th>\n",
       "      <td>...</td>\n",
       "      <td>...</td>\n",
       "    </tr>\n",
       "    <tr>\n",
       "      <th>4715</th>\n",
       "      <td>хо̄иглаӈкве</td>\n",
       "      <td>стукнуться</td>\n",
       "    </tr>\n",
       "    <tr>\n",
       "      <th>4716</th>\n",
       "      <td>хо̄иглаӈкве</td>\n",
       "      <td>заехать</td>\n",
       "    </tr>\n",
       "    <tr>\n",
       "      <th>4717</th>\n",
       "      <td>хо̄иглаӈкве</td>\n",
       "      <td>зайти</td>\n",
       "    </tr>\n",
       "    <tr>\n",
       "      <th>4718</th>\n",
       "      <td>э̄ссамтаӈкве</td>\n",
       "      <td>стыдиться</td>\n",
       "    </tr>\n",
       "    <tr>\n",
       "      <th>4719</th>\n",
       "      <td>э̄ссамтаӈкве</td>\n",
       "      <td>смущаться</td>\n",
       "    </tr>\n",
       "  </tbody>\n",
       "</table>\n",
       "<p>4720 rows × 2 columns</p>\n",
       "</div>"
      ],
      "text/plain": [
       "            target             source\n",
       "0            а̄ӈкв         самка лося\n",
       "1        а̄ӈква̄ги  двоюродная сестра\n",
       "2     а̄ӈкватаӈкве          взглянуть\n",
       "3         а̄ӈквпыг    двоюродный брат\n",
       "4            а̄ӈха          куропатка\n",
       "...            ...                ...\n",
       "4715   хо̄иглаӈкве         стукнуться\n",
       "4716   хо̄иглаӈкве            заехать\n",
       "4717   хо̄иглаӈкве              зайти\n",
       "4718  э̄ссамтаӈкве          стыдиться\n",
       "4719  э̄ссамтаӈкве          смущаться\n",
       "\n",
       "[4720 rows x 2 columns]"
      ]
     },
     "execution_count": 161,
     "metadata": {},
     "output_type": "execute_result"
    }
   ],
   "source": [
    "words_df"
   ]
  },
  {
   "cell_type": "code",
   "execution_count": 163,
   "id": "038599ad-32ba-4af6-b3cc-00afedd907d7",
   "metadata": {},
   "outputs": [],
   "source": [
    "words_df = words_df.drop_duplicates(keep='first').reset_index(drop=True)"
   ]
  },
  {
   "cell_type": "code",
   "execution_count": 164,
   "id": "c69806f3-38ca-46b5-be85-57b2f9d89f28",
   "metadata": {},
   "outputs": [
    {
     "data": {
      "text/html": [
       "<div>\n",
       "<style scoped>\n",
       "    .dataframe tbody tr th:only-of-type {\n",
       "        vertical-align: middle;\n",
       "    }\n",
       "\n",
       "    .dataframe tbody tr th {\n",
       "        vertical-align: top;\n",
       "    }\n",
       "\n",
       "    .dataframe thead th {\n",
       "        text-align: right;\n",
       "    }\n",
       "</style>\n",
       "<table border=\"1\" class=\"dataframe\">\n",
       "  <thead>\n",
       "    <tr style=\"text-align: right;\">\n",
       "      <th></th>\n",
       "      <th>target</th>\n",
       "      <th>source</th>\n",
       "    </tr>\n",
       "  </thead>\n",
       "  <tbody>\n",
       "    <tr>\n",
       "      <th>0</th>\n",
       "      <td>а̄ӈкв</td>\n",
       "      <td>самка лося</td>\n",
       "    </tr>\n",
       "    <tr>\n",
       "      <th>1</th>\n",
       "      <td>а̄ӈква̄ги</td>\n",
       "      <td>двоюродная сестра</td>\n",
       "    </tr>\n",
       "    <tr>\n",
       "      <th>2</th>\n",
       "      <td>а̄ӈкватаӈкве</td>\n",
       "      <td>взглянуть</td>\n",
       "    </tr>\n",
       "    <tr>\n",
       "      <th>3</th>\n",
       "      <td>а̄ӈквпыг</td>\n",
       "      <td>двоюродный брат</td>\n",
       "    </tr>\n",
       "    <tr>\n",
       "      <th>4</th>\n",
       "      <td>а̄ӈха</td>\n",
       "      <td>куропатка</td>\n",
       "    </tr>\n",
       "    <tr>\n",
       "      <th>...</th>\n",
       "      <td>...</td>\n",
       "      <td>...</td>\n",
       "    </tr>\n",
       "    <tr>\n",
       "      <th>4713</th>\n",
       "      <td>хо̄иглаӈкве</td>\n",
       "      <td>стукнуться</td>\n",
       "    </tr>\n",
       "    <tr>\n",
       "      <th>4714</th>\n",
       "      <td>хо̄иглаӈкве</td>\n",
       "      <td>заехать</td>\n",
       "    </tr>\n",
       "    <tr>\n",
       "      <th>4715</th>\n",
       "      <td>хо̄иглаӈкве</td>\n",
       "      <td>зайти</td>\n",
       "    </tr>\n",
       "    <tr>\n",
       "      <th>4716</th>\n",
       "      <td>э̄ссамтаӈкве</td>\n",
       "      <td>стыдиться</td>\n",
       "    </tr>\n",
       "    <tr>\n",
       "      <th>4717</th>\n",
       "      <td>э̄ссамтаӈкве</td>\n",
       "      <td>смущаться</td>\n",
       "    </tr>\n",
       "  </tbody>\n",
       "</table>\n",
       "<p>4718 rows × 2 columns</p>\n",
       "</div>"
      ],
      "text/plain": [
       "            target             source\n",
       "0            а̄ӈкв         самка лося\n",
       "1        а̄ӈква̄ги  двоюродная сестра\n",
       "2     а̄ӈкватаӈкве          взглянуть\n",
       "3         а̄ӈквпыг    двоюродный брат\n",
       "4            а̄ӈха          куропатка\n",
       "...            ...                ...\n",
       "4713   хо̄иглаӈкве         стукнуться\n",
       "4714   хо̄иглаӈкве            заехать\n",
       "4715   хо̄иглаӈкве              зайти\n",
       "4716  э̄ссамтаӈкве          стыдиться\n",
       "4717  э̄ссамтаӈкве          смущаться\n",
       "\n",
       "[4718 rows x 2 columns]"
      ]
     },
     "execution_count": 164,
     "metadata": {},
     "output_type": "execute_result"
    }
   ],
   "source": [
    "words_df"
   ]
  },
  {
   "cell_type": "code",
   "execution_count": 165,
   "id": "5b1c72f1-34d8-4241-8610-4397fa381e0b",
   "metadata": {},
   "outputs": [],
   "source": [
    "words_df.to_csv('clear_dictionary.csv', index=False)"
   ]
  },
  {
   "cell_type": "code",
   "execution_count": null,
   "id": "e69c0d84-74c9-4d17-9e69-056996e5e87c",
   "metadata": {},
   "outputs": [],
   "source": []
  },
  {
   "cell_type": "code",
   "execution_count": null,
   "id": "187d994b-5383-48ea-8bd8-14d238ea7618",
   "metadata": {},
   "outputs": [],
   "source": []
  }
 ],
 "metadata": {
  "kernelspec": {
   "display_name": "Python 3 (ipykernel)",
   "language": "python",
   "name": "python3"
  },
  "language_info": {
   "codemirror_mode": {
    "name": "ipython",
    "version": 3
   },
   "file_extension": ".py",
   "mimetype": "text/x-python",
   "name": "python",
   "nbconvert_exporter": "python",
   "pygments_lexer": "ipython3",
   "version": "3.9.6"
  }
 },
 "nbformat": 4,
 "nbformat_minor": 5
}
