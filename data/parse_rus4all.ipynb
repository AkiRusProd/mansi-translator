{
 "cells": [
  {
   "cell_type": "code",
   "execution_count": 1,
   "id": "28121849-ca83-44fc-aafd-35d82bead022",
   "metadata": {},
   "outputs": [],
   "source": [
    "from bs4 import BeautifulSoup as bs\n",
    "import requests\n",
    "from tqdm.notebook import tqdm\n",
    "from copy import deepcopy"
   ]
  },
  {
   "cell_type": "markdown",
   "id": "c35286bb-e67c-4b0b-928a-eb59de2b4332",
   "metadata": {},
   "source": [
    "## парсинг только того, где есть подстрочник (литературный перевод хз норм или нет, не стал брать)"
   ]
  },
  {
   "cell_type": "code",
   "execution_count": 41,
   "id": "6246e11b-376a-49b8-83fb-6b1b7812b00c",
   "metadata": {},
   "outputs": [],
   "source": [
    "page = open(r'C:\\Users\\1645286\\Downloads\\Мансийский язык_ список произведений и авторов - Портал национальных литератур - Россия для всех.html', encoding='utf-8').read()\n",
    "page = bs(page, 'lxml')"
   ]
  },
  {
   "cell_type": "code",
   "execution_count": 42,
   "id": "1a8cb809-495a-4b25-b3ce-5c822362ead1",
   "metadata": {},
   "outputs": [],
   "source": [
    "urls = [art.find('a') for art in page.findAll('article')]"
   ]
  },
  {
   "cell_type": "code",
   "execution_count": 43,
   "id": "bcc87611-8872-4434-9ac7-002bdaf40a10",
   "metadata": {},
   "outputs": [],
   "source": [
    "import chardet\n",
    "import httpx"
   ]
  },
  {
   "cell_type": "code",
   "execution_count": 44,
   "id": "3ffeb795-7ee2-434c-9266-97f1c3177ab9",
   "metadata": {},
   "outputs": [
    {
     "data": {
      "application/vnd.jupyter.widget-view+json": {
       "model_id": "c75a53ce3dd74834bdf411d21e9473ec",
       "version_major": 2,
       "version_minor": 0
      },
      "text/plain": [
       "  0%|          | 0/40 [00:00<?, ?it/s]"
      ]
     },
     "metadata": {},
     "output_type": "display_data"
    }
   ],
   "source": [
    "pages = []\n",
    "for url in tqdm(urls):\n",
    "    response = requests.get(url['href'])\n",
    "    #response.encoding = 'utf-8'\n",
    "    text_page = response.text\n",
    "    if 'Подстрочник' in text_page:\n",
    "        cur_article = {}\n",
    "        cur_article['url'] = url['href']\n",
    "        cur_article['title'] = url.text\n",
    "        text_page = bs(response.content, 'html5lib')\n",
    "        mansi_text = ([p for p in text_page.find('div', {'id': 'tab-source'}).findAll('p')]) # '\\n'.join\n",
    "        rus_text = ([p for p in text_page.find('div', {'id': 'tab-subscript'}).findAll('p')]) #'\\n'.join\n",
    "        cur_article['mansi'] = mansi_text\n",
    "        cur_article['rus'] = rus_text\n",
    "        pages.append(deepcopy(cur_article))"
   ]
  },
  {
   "cell_type": "markdown",
   "id": "a7fdea5a-5743-4f70-a3cb-1c24cf8bea4a",
   "metadata": {
    "jp-MarkdownHeadingCollapsed": true
   },
   "source": [
    "## symbols exploration"
   ]
  },
  {
   "cell_type": "code",
   "execution_count": 7,
   "id": "43992f84-c565-4649-ba95-70f17dff082e",
   "metadata": {},
   "outputs": [],
   "source": [
    "def getcwm(x):\n",
    "    print(x + '̄')"
   ]
  },
  {
   "cell_type": "code",
   "execution_count": 8,
   "id": "6face979-9af0-4bd2-9480-6618b22b332e",
   "metadata": {},
   "outputs": [
    {
     "name": "stdout",
     "output_type": "stream",
     "text": [
      "Ы̄\n"
     ]
    }
   ],
   "source": [
    "getcwm('Ы')"
   ]
  },
  {
   "cell_type": "code",
   "execution_count": 18,
   "id": "f292d70b-93c6-4d60-9ab6-03b5f1264f24",
   "metadata": {},
   "outputs": [],
   "source": [
    "chars = [\"ӯ\", \"Ӯ\", \"ӣ\", \"Ӣ\", \"ā\", \"Ā\", \"ȳ\", \"Ȳ\", \"ō\", \"Ō\", \"ē\", \"Ē\"]\n",
    "chars2 = [el + chr(772) for el in \"а̄А̄я̄Я̄ӯӮю̄Ю̄о̄О̄е̄Е̄ё̄Ё̄э̄Э̄ӣӢы̄Ы̄\".split(chr(772))][:-1]"
   ]
  },
  {
   "cell_type": "code",
   "execution_count": 19,
   "id": "dcd52a74-e5da-4dfb-9515-58752795b8d2",
   "metadata": {},
   "outputs": [
    {
     "data": {
      "application/vnd.jupyter.widget-view+json": {
       "model_id": "3053492e028c4ba89aad2bc69f2d1503",
       "version_major": 2,
       "version_minor": 0
      },
      "text/plain": [
       "  0%|          | 0/12 [00:00<?, ?it/s]"
      ]
     },
     "metadata": {},
     "output_type": "display_data"
    },
    {
     "ename": "NameError",
     "evalue": "name 'case_data' is not defined",
     "output_type": "error",
     "traceback": [
      "\u001b[1;31m---------------------------------------------------------------------------\u001b[0m",
      "\u001b[1;31mNameError\u001b[0m                                 Traceback (most recent call last)",
      "Cell \u001b[1;32mIn[19], line 3\u001b[0m\n\u001b[0;32m      1\u001b[0m d \u001b[38;5;241m=\u001b[39m {}\n\u001b[0;32m      2\u001b[0m \u001b[38;5;28;01mfor\u001b[39;00m c \u001b[38;5;129;01min\u001b[39;00m tqdm(chars):\n\u001b[1;32m----> 3\u001b[0m     d[c] \u001b[38;5;241m=\u001b[39m \u001b[43mcase_data\u001b[49m[case_data\u001b[38;5;241m.\u001b[39mtarget\u001b[38;5;241m.\u001b[39mstr\u001b[38;5;241m.\u001b[39mcontains(c)]\u001b[38;5;241m.\u001b[39mshape[\u001b[38;5;241m0\u001b[39m]\n\u001b[0;32m      4\u001b[0m d\n",
      "\u001b[1;31mNameError\u001b[0m: name 'case_data' is not defined"
     ]
    }
   ],
   "source": [
    "d = {}\n",
    "for c in tqdm(chars):\n",
    "    d[c] = case_data[case_data.target.str.contains(c)].shape[0]\n",
    "d"
   ]
  },
  {
   "cell_type": "code",
   "execution_count": null,
   "id": "d7ce2cfe-159d-49bc-aea1-ceef21f75a93",
   "metadata": {},
   "outputs": [],
   "source": [
    "d = {}\n",
    "for c in tqdm(chars2):\n",
    "    d[c] = case_data[case_data.target.str.contains(c)].shape[0]\n",
    "d"
   ]
  },
  {
   "cell_type": "code",
   "execution_count": null,
   "id": "1e9967b4-1404-4603-be27-3180c009dcc7",
   "metadata": {},
   "outputs": [],
   "source": [
    "chars3 = ['¬', 'Ā', 'ā', 'Ē', 'ē', 'Ō', 'ō', 'ū', '̄', 'Ё', 'ѐ', 'ё', 'є', 'ў', 'ӆ', 'Ӈ', 'ӈ', 'ӊ', 'ӑ', 'ә', 'Ӣ', 'ӣ', 'Ӯ', 'ӯ', '\\uf50f', '\\uf511', '\\uf513', '\\uf518', '\\uf519', '\\uf521', '\\uf523', '\\uf529', '\\uf52d']\n",
    "chars3"
   ]
  },
  {
   "cell_type": "code",
   "execution_count": null,
   "id": "568e5c2b-ddf2-47b9-93c3-d1643569562a",
   "metadata": {},
   "outputs": [],
   "source": [
    "a = '\\uf518'"
   ]
  },
  {
   "cell_type": "code",
   "execution_count": null,
   "id": "7179c1ed-ecd8-477a-abd9-6c90b462c2ef",
   "metadata": {},
   "outputs": [],
   "source": [
    "case_data[case_data.target.str.contains(\"ы̄\")] "
   ]
  },
  {
   "cell_type": "code",
   "execution_count": null,
   "id": "3cb760fb-50ec-4871-85e7-5ab3e2dbd328",
   "metadata": {},
   "outputs": [],
   "source": [
    "print(str(rus_text[3]).replace('<br/>', '\\n').replace('<p>', '').replace('</p>', ''))"
   ]
  },
  {
   "cell_type": "markdown",
   "id": "0bbff277-6144-4931-80b1-b4f375592709",
   "metadata": {},
   "source": [
    "## pprint"
   ]
  },
  {
   "cell_type": "code",
   "execution_count": 9,
   "id": "373c15ba-b3d5-4dcd-89ba-5757bc81e442",
   "metadata": {},
   "outputs": [],
   "source": [
    "def pprint(d):\n",
    "    print('Title:', d['title'], end='\\n\\n')\n",
    "    print('Mansi:\\n', d['mansi'], end='\\n\\n')\n",
    "    print('Russian:\\n', d['rus'])"
   ]
  },
  {
   "cell_type": "code",
   "execution_count": 10,
   "id": "f3222855-2d22-4f35-9632-0924c0d17f77",
   "metadata": {},
   "outputs": [
    {
     "name": "stdout",
     "output_type": "stream",
     "text": [
      "Title: Дай сил подняться мне на немощных крылах...\n",
      "\n",
      "Mansi:\n",
      " [<p>*     *     *</p>, <p><br/>Вāгтāл товлагумтыл нӈх вос лапнувум,<br/>Мā яныттыл вос кāсаланувлум,<br/>Пēс йис мāхманув тох яласлмыт,<br/>Кислквыӈ мāкв тāн сль мувылтлмыт.</p>, <p><br/>Ты хāйтнэ тулыт тāн нумыл ялманыл,<br/>Ты миннэ тулыт ёл-хультуптлманыл,<br/>раныл-мутраныл Трумн туп вāвет,<br/>Нāй-тыр наманыл ат ёрувлавет.</p>, <p><br/>Тāн ньсюм мутраныл хоталь минасыт?<br/>Хт, хотты йисыт сыс тан тыпыгласыт?<br/>Манрыг тыхтал мāн нӈх ат лапēв-а?<br/>Манарын ос хотьютын ёл-пувавēв-а?</p>, <p><br/>Āти, тāн рганыл с сумылласыт,<br/>Тāн пинум лāтӈаныл нӈх лапаясыт,<br/>Мāньси мирув аквтоп товлыӈыг ēмтыс —<br/>Хунь пēс мāхум потрыт хӯнтамлаӈкв вēрмыс.</p>, <p><br/>ква-пыг-пыгрись с нӈх ялтуптавес,<br/>Тāв мутраӈ номтттэ ат тыпылтавес,<br/>Паль сьнэ хтпан тав хӯлуӈкв патаве,<br/>Сам сьнэ хтпан тав ксаллаве.</p>, <p><br/>Товлагум вāгтлыг, нӈх ат лапēгум...<br/>тил мāм хосыт ам сгтым мēгум!<br/>Нāй-тырӈ мā-витт матъёмас лгум,<br/>Мир лн хтал Трумныл пйксгум.</p>]\n",
      "\n",
      "Russian:\n",
      " [<p>*      *      *</p>, <p> </p>, <p>На своих слабеньких крыльях вверх бы мне подняться,<br/>Всю землю сверху взором бы мне окинуть,<br/>В древности наши люди умели к небу подниматься,<br/>Круглую нашу землю они умели облетать.</p>, <p>Над этими бегущими облаками они сверху передвигались,<br/>Эти идущие облака они снизу оставляли,<br/>Их силу и мудрость только один Торум знает,<br/>Имена их женских и мужских духов-покровителей<br/>                                                           никогда не забудутся.</p>, <p>Но куда же подевалась та мудрость сегодня?<br/>Где, в каких веках она утратилась?<br/>Почему сегодня мы не может подняться вверх?<br/>Кто и почему нас удерживает на земле?</p>, <p>Нет, сегодня песни прошедших веков снова стали звучать,<br/>Сложенные в древности слова снова всплывают в памяти,<br/>И от этого мансийский народ словно стал крылатым —<br/>От того, что нашёл и смог услышать древние предания.</p>, <p>И снова Эква-пыг-пыгрись возрождается в народе,<br/>Его мудрый ум, оказывается, не потерян,<br/>Уши имеющий человек его может услышать,<br/>Глаза имеющий человек его может увидеть.</p>, <p>Крылья мои слабы, вверх подняться не могу…<br/>По милой своей земле я все же счастливо иду!<br/>На земле, оберегаемой женскими и мужскими<br/>                                                           духами-покровителями, я живу,<br/>Для жизни своего народа светлые дни у Торума молю.</p>, <p> </p>]\n"
     ]
    }
   ],
   "source": [
    "pprint(pages[0])"
   ]
  },
  {
   "cell_type": "markdown",
   "id": "a3257a0c-d095-49ba-91f6-243723e72605",
   "metadata": {},
   "source": [
    "# очистка и выравнивание"
   ]
  },
  {
   "cell_type": "code",
   "execution_count": 13,
   "id": "de64c093-6b4a-4236-a7f6-684346a96a19",
   "metadata": {},
   "outputs": [],
   "source": [
    "import re\n",
    "import pandas as pd\n",
    "import numpy as np\n",
    "pd.set_option('display.max_colwidth', None)"
   ]
  },
  {
   "cell_type": "code",
   "execution_count": 11,
   "id": "71686c81-bafe-44fc-ac17-db7f0099c51e",
   "metadata": {},
   "outputs": [],
   "source": [
    "replace_table = {\n",
    "    '\\uf519': 'о̄',\n",
    "    '\\uf523': 'э̄',\n",
    "    '\\uf50f': 'а̄',\n",
    "    '\\uf511': 'ē',\n",
    "    '\\uf529': 'а̄',\n",
    "    '\\uf518': 'о̄',\n",
    "    '\\uf528': 'Я̄',\n",
    "    '\\uf513': 'ё̄',\n",
    "    '\\uf522': 'Э̄',\n",
    "    '\\uf512': 'Ё̄',\n",
    "    '\\uf50e': 'А̄',\n",
    "    '\\uf521': 'ы̄',\n",
    "    '\\uf52d': 'ю̄',\n",
    "    'ū': 'ӣ'\n",
    "}"
   ]
  },
  {
   "cell_type": "code",
   "execution_count": 14,
   "id": "74b72d62-6ad4-4964-b800-cffa8b20c9b8",
   "metadata": {},
   "outputs": [
    {
     "data": {
      "text/html": [
       "<div>\n",
       "<style scoped>\n",
       "    .dataframe tbody tr th:only-of-type {\n",
       "        vertical-align: middle;\n",
       "    }\n",
       "\n",
       "    .dataframe tbody tr th {\n",
       "        vertical-align: top;\n",
       "    }\n",
       "\n",
       "    .dataframe thead th {\n",
       "        text-align: right;\n",
       "    }\n",
       "</style>\n",
       "<table border=\"1\" class=\"dataframe\">\n",
       "  <thead>\n",
       "    <tr style=\"text-align: right;\">\n",
       "      <th></th>\n",
       "      <th>target</th>\n",
       "      <th>source</th>\n",
       "    </tr>\n",
       "  </thead>\n",
       "  <tbody>\n",
       "    <tr>\n",
       "      <th>0</th>\n",
       "      <td>Та пыгрисит маим вармаль э̄рнэ поратэт ат вермгыг варункв</td>\n",
       "      <td>Те мальчики не выполнят задание в назначенный срок.</td>\n",
       "    </tr>\n",
       "    <tr>\n",
       "      <th>1</th>\n",
       "      <td>Ха̄йтыматэ тӯр ва̄тан ёхтыс, вит ва̄тан ха̄йтыс.</td>\n",
       "      <td>Бегая к берегу озера пришла, к воде подбежала.</td>\n",
       "    </tr>\n",
       "    <tr>\n",
       "      <th>2</th>\n",
       "      <td>Вит са̄мыл сунсым о̄нтыс</td>\n",
       "      <td>Вода прибывала на глазах</td>\n",
       "    </tr>\n",
       "    <tr>\n",
       "      <th>3</th>\n",
       "      <td>Атаявев, акваг лылынг тагл ворн та тотавев.</td>\n",
       "      <td>Обнюхивает нас, живыми на кладбище уносит.</td>\n",
       "    </tr>\n",
       "    <tr>\n",
       "      <th>4</th>\n",
       "      <td>Ман ты пӣлтал, веськат хумиюв нэтхуньт ат ёрувлвылув</td>\n",
       "      <td>Мы никогда не забудем этого честного человека.</td>\n",
       "    </tr>\n",
       "    <tr>\n",
       "      <th>...</th>\n",
       "      <td>...</td>\n",
       "      <td>...</td>\n",
       "    </tr>\n",
       "    <tr>\n",
       "      <th>79928</th>\n",
       "      <td>А̄нумн ка̄салахты аквтуп тамле о̄лнэ накыт ма̄хматын ма̄гыс лю̄льсаӈыг сусхатуӈкве вēрмēгыт.</td>\n",
       "      <td>Мне кажется, что подобные случаи могут вызывать подозрение.</td>\n",
       "    </tr>\n",
       "    <tr>\n",
       "      <th>79929</th>\n",
       "      <td>А̄танэ нё̄тнэ̄г юил акван-атманэ.</td>\n",
       "      <td>Волосы аккуратно собраны сзади.</td>\n",
       "    </tr>\n",
       "    <tr>\n",
       "      <th>79930</th>\n",
       "      <td>Тох тай, культура сака тэ̄пгалан мед а̄тим.</td>\n",
       "      <td>В общем, культуры интенсивного потребления меда нет.</td>\n",
       "    </tr>\n",
       "    <tr>\n",
       "      <th>79931</th>\n",
       "      <td>Тувыл Уэйтс ты музыкантыг ёт, Чарли Рич ос Фрэнк Заппа ёт гастролин минас.</td>\n",
       "      <td>Затем Уэйтс отправился на гастроли с такими музыкантами, как Чарли Рич и Фрэнк Заппа.</td>\n",
       "    </tr>\n",
       "    <tr>\n",
       "      <th>79932</th>\n",
       "      <td>Тох ман ро̄ви та̄ра юртанын воськасаӈквет?</td>\n",
       "      <td>Но разве можно вот так просто покинуть своих друзей?</td>\n",
       "    </tr>\n",
       "  </tbody>\n",
       "</table>\n",
       "<p>79933 rows × 2 columns</p>\n",
       "</div>"
      ],
      "text/plain": [
       "                                                                                             target  \\\n",
       "0                                         Та пыгрисит маим вармаль э̄рнэ поратэт ат вермгыг варункв   \n",
       "1                                                  Ха̄йтыматэ тӯр ва̄тан ёхтыс, вит ва̄тан ха̄йтыс.   \n",
       "2                                                                          Вит са̄мыл сунсым о̄нтыс   \n",
       "3                                                       Атаявев, акваг лылынг тагл ворн та тотавев.   \n",
       "4                                              Ман ты пӣлтал, веськат хумиюв нэтхуньт ат ёрувлвылув   \n",
       "...                                                                                             ...   \n",
       "79928  А̄нумн ка̄салахты аквтуп тамле о̄лнэ накыт ма̄хматын ма̄гыс лю̄льсаӈыг сусхатуӈкве вēрмēгыт.   \n",
       "79929                                                             А̄танэ нё̄тнэ̄г юил акван-атманэ.   \n",
       "79930                                                   Тох тай, культура сака тэ̄пгалан мед а̄тим.   \n",
       "79931                    Тувыл Уэйтс ты музыкантыг ёт, Чарли Рич ос Фрэнк Заппа ёт гастролин минас.   \n",
       "79932                                                    Тох ман ро̄ви та̄ра юртанын воськасаӈквет?   \n",
       "\n",
       "                                                                                      source  \n",
       "0                                        Те мальчики не выполнят задание в назначенный срок.  \n",
       "1                                             Бегая к берегу озера пришла, к воде подбежала.  \n",
       "2                                                                   Вода прибывала на глазах  \n",
       "3                                                 Обнюхивает нас, живыми на кладбище уносит.  \n",
       "4                                             Мы никогда не забудем этого честного человека.  \n",
       "...                                                                                      ...  \n",
       "79928                            Мне кажется, что подобные случаи могут вызывать подозрение.  \n",
       "79929                                                        Волосы аккуратно собраны сзади.  \n",
       "79930                                   В общем, культуры интенсивного потребления меда нет.  \n",
       "79931  Затем Уэйтс отправился на гастроли с такими музыкантами, как Чарли Рич и Фрэнк Заппа.  \n",
       "79932                                   Но разве можно вот так просто покинуть своих друзей?  \n",
       "\n",
       "[79933 rows x 2 columns]"
      ]
     },
     "execution_count": 14,
     "metadata": {},
     "output_type": "execute_result"
    }
   ],
   "source": [
    "case_data = pd.read_csv(\"cleared_v2.csv\")\n",
    "case_data"
   ]
  },
  {
   "cell_type": "code",
   "execution_count": 129,
   "id": "ca98e43b-0fce-43bf-b282-68ee172afe97",
   "metadata": {},
   "outputs": [],
   "source": [
    "html_replace_table = {\n",
    "    '<p>': '\\n',\n",
    "    '</p>': '',\n",
    "    '\\xa0': ' ',\n",
    "    '\\xad': '',\n",
    "    '<br/>': '\\n',\n",
    "    '<strong>': '',\n",
    "    '</strong>': '',\n",
    "    '<em>': '',\n",
    "    '</em>': '',\n",
    "    '\\u202f': ''\n",
    "}"
   ]
  },
  {
   "cell_type": "code",
   "execution_count": 147,
   "id": "783a1b82-272c-4412-9d22-c3de9b611924",
   "metadata": {},
   "outputs": [],
   "source": [
    "def get_parallel_sentences(rus_list, mansi_list):\n",
    "    res = []\n",
    "    for text in deepcopy([rus_list, mansi_list]):\n",
    "        text = ''.join([str(s) for s in text])\n",
    "        for old, new in html_replace_table.items():\n",
    "            text = text.replace(old, new)\n",
    "        for old, new in replace_table.items():\n",
    "            text = text.replace(old, new)\n",
    "        text = text.split('\\n')\n",
    "        to_delete = []\n",
    "        for i in range(len(text)):\n",
    "            if not bool(re.findall(r'[а-яА-Я]', text[i])) or 'Подстрочный перевод' in text[i]:\n",
    "                to_delete.append(text[i])\n",
    "                continue\n",
    "            for space in [' ' * j for j in range(10, 1, -1)]:\n",
    "                text[i] = text[i].replace(space, ' ')\n",
    "            text[i] = text[i].strip()\n",
    "        text = [t for t in text if not t in to_delete]\n",
    "        res.append(text)\n",
    "    return res"
   ]
  },
  {
   "cell_type": "code",
   "execution_count": 146,
   "id": "8512b070-4443-4494-8f77-5a81dcc16c93",
   "metadata": {},
   "outputs": [
    {
     "name": "stdout",
     "output_type": "stream",
     "text": [
      "0\n",
      "8\n"
     ]
    }
   ],
   "source": [
    "for i, page in enumerate(pages):\n",
    "    t1, t2 = get_parallel_sentences(page['rus'], page['mansi'])\n",
    "    if not len(t1) == len(t2):\n",
    "        print(i)"
   ]
  },
  {
   "cell_type": "code",
   "execution_count": 150,
   "id": "0faa11fa-6636-4cf4-9160-7afe359cd952",
   "metadata": {},
   "outputs": [
    {
     "data": {
      "text/plain": [
       "[<p><strong>Ам самын патум пвлум</strong></p>,\n",
       " <p><br/>Ам самын патум пвлум<br/>Тӯйтыл лап-вōтаставес.<br/>Тыт млты тāл пāвыл пусын хот-свес,<br/>Ам сымум сома лāкква патыс,<br/>Воссыг сымумн ляпа нмāтыр пāвыл āтим,<br/>Туп ам яныгмам пāвлум тот хультыс.<br/>Хосат хот-минасум,<br/>Саль, нврамыг ōлнэ порам тыт ат холас.<br/>Тыхōтал хосат ōлгум,<br/>Туп сымум, тувыл номтум номг пусын.<br/>Ты āӈквал, татык сып,<br/>Хотыл мāн, нврамыт, тлы тахсысув.<br/>Татык тятьтялахтын лāкв,<br/>Āсюм ляпа руматэ хуньт мāнавн вāрыглас...<br/>Саль, воссыг нмхуньт тыйи ат кāсалгум ...<br/>Туп сымумт, тувыл номтумт хультсыт.<br/>Номилум, сома ср ань ты...<br/>Саль, тыт млты тāл уля тс...</p>]"
      ]
     },
     "execution_count": 150,
     "metadata": {},
     "output_type": "execute_result"
    }
   ],
   "source": []
  },
  {
   "cell_type": "code",
   "execution_count": 148,
   "id": "01f14484-3cba-4c58-a6cd-42b1859019ce",
   "metadata": {},
   "outputs": [],
   "source": [
    "t1, t2 = get_parallel_sentences(pages[7]['rus'], pages[7]['mansi'])"
   ]
  },
  {
   "cell_type": "code",
   "execution_count": 149,
   "id": "d48aac12-a2e4-429e-b72a-bbd855eee100",
   "metadata": {},
   "outputs": [
    {
     "data": {
      "text/plain": [
       "(['Село, в котором я родилась',\n",
       "  'Село, в котором я родилась',\n",
       "  'Сегодня заметено белым снегом.',\n",
       "  'Здесь в прошлом году бушевал пожар,',\n",
       "  'И сердце моё словно распалось на кусочки.',\n",
       "  'Ведь роднее моего села нет другого места,',\n",
       "  'Лишь оно одно живёт в моём сердце.',\n",
       "  'Я давно покинула село,',\n",
       "  'Жаль, но моё детство уже прошло.',\n",
       "  'Сегодня я живу вдали от дома,',\n",
       "  'Только в сердце и в памяти оно навсегда.',\n",
       "  'Этот пенёк и тот пригорок,',\n",
       "  'С которого мы, дети, зимой катались.',\n",
       "  'То железное колечко качелей,',\n",
       "  'Которое смастерил нам папин русский друг…',\n",
       "  'Жаль, больше это не увижу никогда…',\n",
       "  'Только в сердце и в памяти это осталось.',\n",
       "  'Помню всё, и живу я прошлым…',\n",
       "  'Жаль, здесь в прошлом году бушевал пожар…'],\n",
       " ['Ам самын патум па̄влум',\n",
       "  'Ам самын патум па̄влум',\n",
       "  'Тӯйтыл лап-вōтаставес.',\n",
       "  'Тыт мо̄лты тāл пāвыл пусын хот-ё̄свес,',\n",
       "  'Ам сымум сома лāкква патыс,',\n",
       "  'Воссыг сымумн ляпа нэ̄мāтыр пāвыл āтим,',\n",
       "  'Туп ам яныгмам пāвлум тот хультыс.',\n",
       "  'Хосат хот-минасум,',\n",
       "  'Саль, на̄врамыг ōлнэ порам тыт ат холас.',\n",
       "  'Тыхōтал хосат ōлэ̄гум,',\n",
       "  'Туп сымум, тувыл номтум номēг пусын.',\n",
       "  'Ты āӈквал, татык сып,',\n",
       "  'Хотыл мāн, на̄врамыт, тэ̄лы тахсысув.',\n",
       "  'Татык тятьтялахтын лāкв,',\n",
       "  'Āсюм ляпа руматэ хуньт мāнавн вāрыглас...',\n",
       "  'Саль, воссыг нэ̄мхуньт тыйи ат кāсалэ̄гум ...',\n",
       "  'Туп сымумт, тувыл номтумт хультсыт.',\n",
       "  'Номилум, сома са̄р ань ты...',\n",
       "  'Саль, тыт мо̄лты тāл уля тэ̄с...'])"
      ]
     },
     "execution_count": 149,
     "metadata": {},
     "output_type": "execute_result"
    }
   ],
   "source": [
    "t1, t2"
   ]
  },
  {
   "cell_type": "code",
   "execution_count": 144,
   "id": "c77934ba-a99a-4237-8103-dd200f9c9cb3",
   "metadata": {},
   "outputs": [
    {
     "data": {
      "text/plain": [
       "(20, 19)"
      ]
     },
     "execution_count": 144,
     "metadata": {},
     "output_type": "execute_result"
    }
   ],
   "source": [
    "len(t1), len(t2)"
   ]
  },
  {
   "cell_type": "code",
   "execution_count": 117,
   "id": "9ac6c19f-dc6c-4701-923f-2b2268727040",
   "metadata": {},
   "outputs": [
    {
     "data": {
      "text/plain": [
       "'https://rus4all.ru/mns/20200413/26228/Mame.html'"
      ]
     },
     "execution_count": 117,
     "metadata": {},
     "output_type": "execute_result"
    }
   ],
   "source": [
    "pages[5]['url']"
   ]
  },
  {
   "cell_type": "code",
   "execution_count": null,
   "id": "aa09c852-099d-4416-962f-94fe5c4b3aa4",
   "metadata": {},
   "outputs": [],
   "source": []
  }
 ],
 "metadata": {
  "kernelspec": {
   "display_name": "Python 3 (ipykernel)",
   "language": "python",
   "name": "python3"
  },
  "language_info": {
   "codemirror_mode": {
    "name": "ipython",
    "version": 3
   },
   "file_extension": ".py",
   "mimetype": "text/x-python",
   "name": "python",
   "nbconvert_exporter": "python",
   "pygments_lexer": "ipython3",
   "version": "3.9.6"
  }
 },
 "nbformat": 4,
 "nbformat_minor": 5
}
